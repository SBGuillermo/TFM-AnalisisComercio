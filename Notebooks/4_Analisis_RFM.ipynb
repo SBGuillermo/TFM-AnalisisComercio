{
  "nbformat": 4,
  "nbformat_minor": 0,
  "metadata": {
    "colab": {
      "name": "4_Analisis_RFM.ipynb",
      "provenance": [],
      "collapsed_sections": [],
      "authorship_tag": "ABX9TyO7kjy3MmptY75Vm3ZuJY0M",
      "include_colab_link": true
    },
    "kernelspec": {
      "name": "python3",
      "display_name": "Python 3"
    },
    "language_info": {
      "name": "python"
    }
  },
  "cells": [
    {
      "cell_type": "markdown",
      "metadata": {
        "id": "view-in-github",
        "colab_type": "text"
      },
      "source": [
        "<a href=\"https://colab.research.google.com/github/SBGuillermo/TFM-AnalisisComercio/blob/main/Notebooks/4_Analisis_RFM.ipynb\" target=\"_parent\"><img src=\"https://colab.research.google.com/assets/colab-badge.svg\" alt=\"Open In Colab\"/></a>"
      ]
    },
    {
      "cell_type": "markdown",
      "metadata": {
        "id": "E5zAtU8SzeQP"
      },
      "source": [
        "# Analisis RFM"
      ]
    },
    {
      "cell_type": "markdown",
      "metadata": {
        "id": "EyBhJt-VFrnt"
      },
      "source": [
        "en este notebooks vamos a llevar a cabo una clasificación e los clientes siguiendo el metodo de análisis RFM, que tiene en cuenta el dinero gastado por el cliente, la frecuencia de compra y la última vez que compró"
      ]
    },
    {
      "cell_type": "code",
      "metadata": {
        "colab": {
          "base_uri": "https://localhost:8080/"
        },
        "id": "EyxD-sInR4o4",
        "outputId": "26727be7-aeb6-4844-d5b1-2d66da21a5c0"
      },
      "source": [
        "#importamos las librerias más importantes que vamos a usar en este notebook\n",
        "%pylab inline\n",
        "import pandas as pd\n",
        "import numpy as np\n",
        "import matplotlib.pyplot as plt\n",
        "import seaborn as sns\n",
        "import datetime as dt\n",
        "import sklearn"
      ],
      "execution_count": 1,
      "outputs": [
        {
          "output_type": "stream",
          "text": [
            "Populating the interactive namespace from numpy and matplotlib\n"
          ],
          "name": "stdout"
        }
      ]
    },
    {
      "cell_type": "markdown",
      "metadata": {
        "id": "mfuJtixeGECp"
      },
      "source": [
        "Como en los anteriores Notebooks nos descargamos el dataset en dos archivos distintos debido a su tamaño, y luego procederemos a concatenarlos"
      ]
    },
    {
      "cell_type": "code",
      "metadata": {
        "colab": {
          "base_uri": "https://localhost:8080/"
        },
        "id": "xsYSOJwdSKHH",
        "outputId": "eca5bb30-1dc2-46dc-abdc-2abd0049760e"
      },
      "source": [
        "!wget https://raw.githubusercontent.com/SBGuillermo/TFM-AnalisisComercio/main/DataSet/DataClean/Table1.csv"
      ],
      "execution_count": 2,
      "outputs": [
        {
          "output_type": "stream",
          "text": [
            "--2021-07-09 10:58:04--  https://raw.githubusercontent.com/SBGuillermo/TFM-AnalisisComercio/main/DataSet/DataClean/Table1.csv\n",
            "Resolving raw.githubusercontent.com (raw.githubusercontent.com)... 185.199.108.133, 185.199.109.133, 185.199.110.133, ...\n",
            "Connecting to raw.githubusercontent.com (raw.githubusercontent.com)|185.199.108.133|:443... connected.\n",
            "HTTP request sent, awaiting response... 200 OK\n",
            "Length: 17889332 (17M) [text/plain]\n",
            "Saving to: ‘Table1.csv’\n",
            "\n",
            "Table1.csv          100%[===================>]  17.06M  --.-KB/s    in 0.1s    \n",
            "\n",
            "2021-07-09 10:58:04 (132 MB/s) - ‘Table1.csv’ saved [17889332/17889332]\n",
            "\n"
          ],
          "name": "stdout"
        }
      ]
    },
    {
      "cell_type": "code",
      "metadata": {
        "colab": {
          "base_uri": "https://localhost:8080/"
        },
        "id": "XTkkVC54ZM34",
        "outputId": "e5da130d-f5b0-4f0d-e757-445269e7dddc"
      },
      "source": [
        "!wget https://raw.githubusercontent.com/SBGuillermo/TFM-AnalisisComercio/main/DataSet/DataClean/Table2.csv"
      ],
      "execution_count": 3,
      "outputs": [
        {
          "output_type": "stream",
          "text": [
            "--2021-07-09 10:58:04--  https://raw.githubusercontent.com/SBGuillermo/TFM-AnalisisComercio/main/DataSet/DataClean/Table2.csv\n",
            "Resolving raw.githubusercontent.com (raw.githubusercontent.com)... 185.199.108.133, 185.199.109.133, 185.199.110.133, ...\n",
            "Connecting to raw.githubusercontent.com (raw.githubusercontent.com)|185.199.108.133|:443... connected.\n",
            "HTTP request sent, awaiting response... 200 OK\n",
            "Length: 17784301 (17M) [text/plain]\n",
            "Saving to: ‘Table2.csv’\n",
            "\n",
            "Table2.csv          100%[===================>]  16.96M  --.-KB/s    in 0.09s   \n",
            "\n",
            "2021-07-09 10:58:04 (181 MB/s) - ‘Table2.csv’ saved [17784301/17784301]\n",
            "\n"
          ],
          "name": "stdout"
        }
      ]
    },
    {
      "cell_type": "code",
      "metadata": {
        "colab": {
          "base_uri": "https://localhost:8080/",
          "height": 419
        },
        "id": "imAMt3A3ZOpu",
        "outputId": "ba5f2a40-1fa7-4ff0-9b20-f80d4f06be54"
      },
      "source": [
        "#convertimos el archivo csv en un Dataframe de pandas\n",
        "df1 = pd.read_csv('/content/Table1.csv')\n",
        "df1"
      ],
      "execution_count": 4,
      "outputs": [
        {
          "output_type": "execute_result",
          "data": {
            "text/html": [
              "<div>\n",
              "<style scoped>\n",
              "    .dataframe tbody tr th:only-of-type {\n",
              "        vertical-align: middle;\n",
              "    }\n",
              "\n",
              "    .dataframe tbody tr th {\n",
              "        vertical-align: top;\n",
              "    }\n",
              "\n",
              "    .dataframe thead th {\n",
              "        text-align: right;\n",
              "    }\n",
              "</style>\n",
              "<table border=\"1\" class=\"dataframe\">\n",
              "  <thead>\n",
              "    <tr style=\"text-align: right;\">\n",
              "      <th></th>\n",
              "      <th>Unnamed: 0</th>\n",
              "      <th>Unnamed: 0.1</th>\n",
              "      <th>InvoiceNo</th>\n",
              "      <th>StockCode</th>\n",
              "      <th>Description</th>\n",
              "      <th>Quantity</th>\n",
              "      <th>InvoiceDate</th>\n",
              "      <th>UnitPrice</th>\n",
              "      <th>CustomerID</th>\n",
              "      <th>Country</th>\n",
              "      <th>PrecioTotal</th>\n",
              "    </tr>\n",
              "  </thead>\n",
              "  <tbody>\n",
              "    <tr>\n",
              "      <th>0</th>\n",
              "      <td>0</td>\n",
              "      <td>0</td>\n",
              "      <td>536365</td>\n",
              "      <td>85123A</td>\n",
              "      <td>WHITE HANGING HEART T-LIGHT HOLDER</td>\n",
              "      <td>6</td>\n",
              "      <td>2010-12-01 08:26:00</td>\n",
              "      <td>2.55</td>\n",
              "      <td>17850.0</td>\n",
              "      <td>United Kingdom</td>\n",
              "      <td>15.30</td>\n",
              "    </tr>\n",
              "    <tr>\n",
              "      <th>1</th>\n",
              "      <td>1</td>\n",
              "      <td>1</td>\n",
              "      <td>536365</td>\n",
              "      <td>71053</td>\n",
              "      <td>other</td>\n",
              "      <td>6</td>\n",
              "      <td>2010-12-01 08:26:00</td>\n",
              "      <td>3.39</td>\n",
              "      <td>17850.0</td>\n",
              "      <td>United Kingdom</td>\n",
              "      <td>20.34</td>\n",
              "    </tr>\n",
              "    <tr>\n",
              "      <th>2</th>\n",
              "      <td>2</td>\n",
              "      <td>2</td>\n",
              "      <td>536365</td>\n",
              "      <td>84406B</td>\n",
              "      <td>other</td>\n",
              "      <td>8</td>\n",
              "      <td>2010-12-01 08:26:00</td>\n",
              "      <td>2.75</td>\n",
              "      <td>17850.0</td>\n",
              "      <td>United Kingdom</td>\n",
              "      <td>22.00</td>\n",
              "    </tr>\n",
              "    <tr>\n",
              "      <th>3</th>\n",
              "      <td>3</td>\n",
              "      <td>3</td>\n",
              "      <td>536365</td>\n",
              "      <td>84029G</td>\n",
              "      <td>other</td>\n",
              "      <td>6</td>\n",
              "      <td>2010-12-01 08:26:00</td>\n",
              "      <td>3.39</td>\n",
              "      <td>17850.0</td>\n",
              "      <td>United Kingdom</td>\n",
              "      <td>20.34</td>\n",
              "    </tr>\n",
              "    <tr>\n",
              "      <th>4</th>\n",
              "      <td>4</td>\n",
              "      <td>4</td>\n",
              "      <td>536365</td>\n",
              "      <td>84029E</td>\n",
              "      <td>other</td>\n",
              "      <td>6</td>\n",
              "      <td>2010-12-01 08:26:00</td>\n",
              "      <td>3.39</td>\n",
              "      <td>17850.0</td>\n",
              "      <td>United Kingdom</td>\n",
              "      <td>20.34</td>\n",
              "    </tr>\n",
              "    <tr>\n",
              "      <th>...</th>\n",
              "      <td>...</td>\n",
              "      <td>...</td>\n",
              "      <td>...</td>\n",
              "      <td>...</td>\n",
              "      <td>...</td>\n",
              "      <td>...</td>\n",
              "      <td>...</td>\n",
              "      <td>...</td>\n",
              "      <td>...</td>\n",
              "      <td>...</td>\n",
              "      <td>...</td>\n",
              "    </tr>\n",
              "    <tr>\n",
              "      <th>199995</th>\n",
              "      <td>199995</td>\n",
              "      <td>285947</td>\n",
              "      <td>561967</td>\n",
              "      <td>22400</td>\n",
              "      <td>other</td>\n",
              "      <td>3</td>\n",
              "      <td>2011-08-01 13:11:00</td>\n",
              "      <td>0.39</td>\n",
              "      <td>12844.0</td>\n",
              "      <td>United Kingdom</td>\n",
              "      <td>1.17</td>\n",
              "    </tr>\n",
              "    <tr>\n",
              "      <th>199996</th>\n",
              "      <td>199996</td>\n",
              "      <td>285948</td>\n",
              "      <td>561967</td>\n",
              "      <td>82482</td>\n",
              "      <td>WOODEN PICTURE FRAME WHITE FINISH</td>\n",
              "      <td>5</td>\n",
              "      <td>2011-08-01 13:11:00</td>\n",
              "      <td>2.55</td>\n",
              "      <td>12844.0</td>\n",
              "      <td>United Kingdom</td>\n",
              "      <td>12.75</td>\n",
              "    </tr>\n",
              "    <tr>\n",
              "      <th>199997</th>\n",
              "      <td>199997</td>\n",
              "      <td>285949</td>\n",
              "      <td>561967</td>\n",
              "      <td>82551</td>\n",
              "      <td>other</td>\n",
              "      <td>3</td>\n",
              "      <td>2011-08-01 13:11:00</td>\n",
              "      <td>1.45</td>\n",
              "      <td>12844.0</td>\n",
              "      <td>United Kingdom</td>\n",
              "      <td>4.35</td>\n",
              "    </tr>\n",
              "    <tr>\n",
              "      <th>199998</th>\n",
              "      <td>199998</td>\n",
              "      <td>285950</td>\n",
              "      <td>561967</td>\n",
              "      <td>82552</td>\n",
              "      <td>other</td>\n",
              "      <td>3</td>\n",
              "      <td>2011-08-01 13:11:00</td>\n",
              "      <td>1.45</td>\n",
              "      <td>12844.0</td>\n",
              "      <td>United Kingdom</td>\n",
              "      <td>4.35</td>\n",
              "    </tr>\n",
              "    <tr>\n",
              "      <th>199999</th>\n",
              "      <td>199999</td>\n",
              "      <td>285951</td>\n",
              "      <td>561967</td>\n",
              "      <td>22759</td>\n",
              "      <td>other</td>\n",
              "      <td>3</td>\n",
              "      <td>2011-08-01 13:11:00</td>\n",
              "      <td>1.65</td>\n",
              "      <td>12844.0</td>\n",
              "      <td>United Kingdom</td>\n",
              "      <td>4.95</td>\n",
              "    </tr>\n",
              "  </tbody>\n",
              "</table>\n",
              "<p>200000 rows × 11 columns</p>\n",
              "</div>"
            ],
            "text/plain": [
              "        Unnamed: 0  Unnamed: 0.1  ...         Country PrecioTotal\n",
              "0                0             0  ...  United Kingdom       15.30\n",
              "1                1             1  ...  United Kingdom       20.34\n",
              "2                2             2  ...  United Kingdom       22.00\n",
              "3                3             3  ...  United Kingdom       20.34\n",
              "4                4             4  ...  United Kingdom       20.34\n",
              "...            ...           ...  ...             ...         ...\n",
              "199995      199995        285947  ...  United Kingdom        1.17\n",
              "199996      199996        285948  ...  United Kingdom       12.75\n",
              "199997      199997        285949  ...  United Kingdom        4.35\n",
              "199998      199998        285950  ...  United Kingdom        4.35\n",
              "199999      199999        285951  ...  United Kingdom        4.95\n",
              "\n",
              "[200000 rows x 11 columns]"
            ]
          },
          "metadata": {
            "tags": []
          },
          "execution_count": 4
        }
      ]
    },
    {
      "cell_type": "code",
      "metadata": {
        "colab": {
          "base_uri": "https://localhost:8080/",
          "height": 419
        },
        "id": "BxJSayXOc_39",
        "outputId": "c29f6aa3-3bed-4ef9-8a4c-d7289a8a08ce"
      },
      "source": [
        "#convertimos el archivo csv en un Dataframe de pandas\n",
        "df2 = pd.read_csv('/content/Table2.csv')\n",
        "df2"
      ],
      "execution_count": 5,
      "outputs": [
        {
          "output_type": "execute_result",
          "data": {
            "text/html": [
              "<div>\n",
              "<style scoped>\n",
              "    .dataframe tbody tr th:only-of-type {\n",
              "        vertical-align: middle;\n",
              "    }\n",
              "\n",
              "    .dataframe tbody tr th {\n",
              "        vertical-align: top;\n",
              "    }\n",
              "\n",
              "    .dataframe thead th {\n",
              "        text-align: right;\n",
              "    }\n",
              "</style>\n",
              "<table border=\"1\" class=\"dataframe\">\n",
              "  <thead>\n",
              "    <tr style=\"text-align: right;\">\n",
              "      <th></th>\n",
              "      <th>Unnamed: 0</th>\n",
              "      <th>Unnamed: 0.1</th>\n",
              "      <th>InvoiceNo</th>\n",
              "      <th>StockCode</th>\n",
              "      <th>Description</th>\n",
              "      <th>Quantity</th>\n",
              "      <th>InvoiceDate</th>\n",
              "      <th>UnitPrice</th>\n",
              "      <th>CustomerID</th>\n",
              "      <th>Country</th>\n",
              "      <th>PrecioTotal</th>\n",
              "    </tr>\n",
              "  </thead>\n",
              "  <tbody>\n",
              "    <tr>\n",
              "      <th>0</th>\n",
              "      <td>200000</td>\n",
              "      <td>285952</td>\n",
              "      <td>561967</td>\n",
              "      <td>23306</td>\n",
              "      <td>other</td>\n",
              "      <td>3</td>\n",
              "      <td>2011-08-01 13:11:00</td>\n",
              "      <td>1.45</td>\n",
              "      <td>12844.0</td>\n",
              "      <td>United Kingdom</td>\n",
              "      <td>4.35</td>\n",
              "    </tr>\n",
              "    <tr>\n",
              "      <th>1</th>\n",
              "      <td>200001</td>\n",
              "      <td>285953</td>\n",
              "      <td>561967</td>\n",
              "      <td>47504H</td>\n",
              "      <td>other</td>\n",
              "      <td>1</td>\n",
              "      <td>2011-08-01 13:11:00</td>\n",
              "      <td>0.79</td>\n",
              "      <td>12844.0</td>\n",
              "      <td>United Kingdom</td>\n",
              "      <td>0.79</td>\n",
              "    </tr>\n",
              "    <tr>\n",
              "      <th>2</th>\n",
              "      <td>200002</td>\n",
              "      <td>285954</td>\n",
              "      <td>561967</td>\n",
              "      <td>21907</td>\n",
              "      <td>other</td>\n",
              "      <td>6</td>\n",
              "      <td>2011-08-01 13:11:00</td>\n",
              "      <td>2.10</td>\n",
              "      <td>12844.0</td>\n",
              "      <td>United Kingdom</td>\n",
              "      <td>12.60</td>\n",
              "    </tr>\n",
              "    <tr>\n",
              "      <th>3</th>\n",
              "      <td>200003</td>\n",
              "      <td>285955</td>\n",
              "      <td>561967</td>\n",
              "      <td>21992</td>\n",
              "      <td>other</td>\n",
              "      <td>3</td>\n",
              "      <td>2011-08-01 13:11:00</td>\n",
              "      <td>1.25</td>\n",
              "      <td>12844.0</td>\n",
              "      <td>United Kingdom</td>\n",
              "      <td>3.75</td>\n",
              "    </tr>\n",
              "    <tr>\n",
              "      <th>4</th>\n",
              "      <td>200004</td>\n",
              "      <td>285956</td>\n",
              "      <td>561967</td>\n",
              "      <td>21754</td>\n",
              "      <td>other</td>\n",
              "      <td>2</td>\n",
              "      <td>2011-08-01 13:11:00</td>\n",
              "      <td>5.95</td>\n",
              "      <td>12844.0</td>\n",
              "      <td>United Kingdom</td>\n",
              "      <td>11.90</td>\n",
              "    </tr>\n",
              "    <tr>\n",
              "      <th>...</th>\n",
              "      <td>...</td>\n",
              "      <td>...</td>\n",
              "      <td>...</td>\n",
              "      <td>...</td>\n",
              "      <td>...</td>\n",
              "      <td>...</td>\n",
              "      <td>...</td>\n",
              "      <td>...</td>\n",
              "      <td>...</td>\n",
              "      <td>...</td>\n",
              "      <td>...</td>\n",
              "    </tr>\n",
              "    <tr>\n",
              "      <th>197919</th>\n",
              "      <td>397919</td>\n",
              "      <td>541904</td>\n",
              "      <td>581587</td>\n",
              "      <td>22613</td>\n",
              "      <td>other</td>\n",
              "      <td>12</td>\n",
              "      <td>2011-12-09 12:50:00</td>\n",
              "      <td>0.85</td>\n",
              "      <td>12680.0</td>\n",
              "      <td>France</td>\n",
              "      <td>10.20</td>\n",
              "    </tr>\n",
              "    <tr>\n",
              "      <th>197920</th>\n",
              "      <td>397920</td>\n",
              "      <td>541905</td>\n",
              "      <td>581587</td>\n",
              "      <td>22899</td>\n",
              "      <td>other</td>\n",
              "      <td>6</td>\n",
              "      <td>2011-12-09 12:50:00</td>\n",
              "      <td>2.10</td>\n",
              "      <td>12680.0</td>\n",
              "      <td>France</td>\n",
              "      <td>12.60</td>\n",
              "    </tr>\n",
              "    <tr>\n",
              "      <th>197921</th>\n",
              "      <td>397921</td>\n",
              "      <td>541906</td>\n",
              "      <td>581587</td>\n",
              "      <td>23254</td>\n",
              "      <td>other</td>\n",
              "      <td>4</td>\n",
              "      <td>2011-12-09 12:50:00</td>\n",
              "      <td>4.15</td>\n",
              "      <td>12680.0</td>\n",
              "      <td>France</td>\n",
              "      <td>16.60</td>\n",
              "    </tr>\n",
              "    <tr>\n",
              "      <th>197922</th>\n",
              "      <td>397922</td>\n",
              "      <td>541907</td>\n",
              "      <td>581587</td>\n",
              "      <td>23255</td>\n",
              "      <td>other</td>\n",
              "      <td>4</td>\n",
              "      <td>2011-12-09 12:50:00</td>\n",
              "      <td>4.15</td>\n",
              "      <td>12680.0</td>\n",
              "      <td>France</td>\n",
              "      <td>16.60</td>\n",
              "    </tr>\n",
              "    <tr>\n",
              "      <th>197923</th>\n",
              "      <td>397923</td>\n",
              "      <td>541908</td>\n",
              "      <td>581587</td>\n",
              "      <td>22138</td>\n",
              "      <td>other</td>\n",
              "      <td>3</td>\n",
              "      <td>2011-12-09 12:50:00</td>\n",
              "      <td>4.95</td>\n",
              "      <td>12680.0</td>\n",
              "      <td>France</td>\n",
              "      <td>14.85</td>\n",
              "    </tr>\n",
              "  </tbody>\n",
              "</table>\n",
              "<p>197924 rows × 11 columns</p>\n",
              "</div>"
            ],
            "text/plain": [
              "        Unnamed: 0  Unnamed: 0.1  ...         Country PrecioTotal\n",
              "0           200000        285952  ...  United Kingdom        4.35\n",
              "1           200001        285953  ...  United Kingdom        0.79\n",
              "2           200002        285954  ...  United Kingdom       12.60\n",
              "3           200003        285955  ...  United Kingdom        3.75\n",
              "4           200004        285956  ...  United Kingdom       11.90\n",
              "...            ...           ...  ...             ...         ...\n",
              "197919      397919        541904  ...          France       10.20\n",
              "197920      397920        541905  ...          France       12.60\n",
              "197921      397921        541906  ...          France       16.60\n",
              "197922      397922        541907  ...          France       16.60\n",
              "197923      397923        541908  ...          France       14.85\n",
              "\n",
              "[197924 rows x 11 columns]"
            ]
          },
          "metadata": {
            "tags": []
          },
          "execution_count": 5
        }
      ]
    },
    {
      "cell_type": "code",
      "metadata": {
        "colab": {
          "base_uri": "https://localhost:8080/",
          "height": 419
        },
        "id": "6YnKFfJfdBpU",
        "outputId": "506e78f9-c853-4b00-b599-e8cca6f3ecd2"
      },
      "source": [
        "#concatenamos los dos dataframes para tener todos los datos unidos\n",
        "df = pd.concat([df1,df2], axis=0)\n",
        "df"
      ],
      "execution_count": 6,
      "outputs": [
        {
          "output_type": "execute_result",
          "data": {
            "text/html": [
              "<div>\n",
              "<style scoped>\n",
              "    .dataframe tbody tr th:only-of-type {\n",
              "        vertical-align: middle;\n",
              "    }\n",
              "\n",
              "    .dataframe tbody tr th {\n",
              "        vertical-align: top;\n",
              "    }\n",
              "\n",
              "    .dataframe thead th {\n",
              "        text-align: right;\n",
              "    }\n",
              "</style>\n",
              "<table border=\"1\" class=\"dataframe\">\n",
              "  <thead>\n",
              "    <tr style=\"text-align: right;\">\n",
              "      <th></th>\n",
              "      <th>Unnamed: 0</th>\n",
              "      <th>Unnamed: 0.1</th>\n",
              "      <th>InvoiceNo</th>\n",
              "      <th>StockCode</th>\n",
              "      <th>Description</th>\n",
              "      <th>Quantity</th>\n",
              "      <th>InvoiceDate</th>\n",
              "      <th>UnitPrice</th>\n",
              "      <th>CustomerID</th>\n",
              "      <th>Country</th>\n",
              "      <th>PrecioTotal</th>\n",
              "    </tr>\n",
              "  </thead>\n",
              "  <tbody>\n",
              "    <tr>\n",
              "      <th>0</th>\n",
              "      <td>0</td>\n",
              "      <td>0</td>\n",
              "      <td>536365</td>\n",
              "      <td>85123A</td>\n",
              "      <td>WHITE HANGING HEART T-LIGHT HOLDER</td>\n",
              "      <td>6</td>\n",
              "      <td>2010-12-01 08:26:00</td>\n",
              "      <td>2.55</td>\n",
              "      <td>17850.0</td>\n",
              "      <td>United Kingdom</td>\n",
              "      <td>15.30</td>\n",
              "    </tr>\n",
              "    <tr>\n",
              "      <th>1</th>\n",
              "      <td>1</td>\n",
              "      <td>1</td>\n",
              "      <td>536365</td>\n",
              "      <td>71053</td>\n",
              "      <td>other</td>\n",
              "      <td>6</td>\n",
              "      <td>2010-12-01 08:26:00</td>\n",
              "      <td>3.39</td>\n",
              "      <td>17850.0</td>\n",
              "      <td>United Kingdom</td>\n",
              "      <td>20.34</td>\n",
              "    </tr>\n",
              "    <tr>\n",
              "      <th>2</th>\n",
              "      <td>2</td>\n",
              "      <td>2</td>\n",
              "      <td>536365</td>\n",
              "      <td>84406B</td>\n",
              "      <td>other</td>\n",
              "      <td>8</td>\n",
              "      <td>2010-12-01 08:26:00</td>\n",
              "      <td>2.75</td>\n",
              "      <td>17850.0</td>\n",
              "      <td>United Kingdom</td>\n",
              "      <td>22.00</td>\n",
              "    </tr>\n",
              "    <tr>\n",
              "      <th>3</th>\n",
              "      <td>3</td>\n",
              "      <td>3</td>\n",
              "      <td>536365</td>\n",
              "      <td>84029G</td>\n",
              "      <td>other</td>\n",
              "      <td>6</td>\n",
              "      <td>2010-12-01 08:26:00</td>\n",
              "      <td>3.39</td>\n",
              "      <td>17850.0</td>\n",
              "      <td>United Kingdom</td>\n",
              "      <td>20.34</td>\n",
              "    </tr>\n",
              "    <tr>\n",
              "      <th>4</th>\n",
              "      <td>4</td>\n",
              "      <td>4</td>\n",
              "      <td>536365</td>\n",
              "      <td>84029E</td>\n",
              "      <td>other</td>\n",
              "      <td>6</td>\n",
              "      <td>2010-12-01 08:26:00</td>\n",
              "      <td>3.39</td>\n",
              "      <td>17850.0</td>\n",
              "      <td>United Kingdom</td>\n",
              "      <td>20.34</td>\n",
              "    </tr>\n",
              "    <tr>\n",
              "      <th>...</th>\n",
              "      <td>...</td>\n",
              "      <td>...</td>\n",
              "      <td>...</td>\n",
              "      <td>...</td>\n",
              "      <td>...</td>\n",
              "      <td>...</td>\n",
              "      <td>...</td>\n",
              "      <td>...</td>\n",
              "      <td>...</td>\n",
              "      <td>...</td>\n",
              "      <td>...</td>\n",
              "    </tr>\n",
              "    <tr>\n",
              "      <th>197919</th>\n",
              "      <td>397919</td>\n",
              "      <td>541904</td>\n",
              "      <td>581587</td>\n",
              "      <td>22613</td>\n",
              "      <td>other</td>\n",
              "      <td>12</td>\n",
              "      <td>2011-12-09 12:50:00</td>\n",
              "      <td>0.85</td>\n",
              "      <td>12680.0</td>\n",
              "      <td>France</td>\n",
              "      <td>10.20</td>\n",
              "    </tr>\n",
              "    <tr>\n",
              "      <th>197920</th>\n",
              "      <td>397920</td>\n",
              "      <td>541905</td>\n",
              "      <td>581587</td>\n",
              "      <td>22899</td>\n",
              "      <td>other</td>\n",
              "      <td>6</td>\n",
              "      <td>2011-12-09 12:50:00</td>\n",
              "      <td>2.10</td>\n",
              "      <td>12680.0</td>\n",
              "      <td>France</td>\n",
              "      <td>12.60</td>\n",
              "    </tr>\n",
              "    <tr>\n",
              "      <th>197921</th>\n",
              "      <td>397921</td>\n",
              "      <td>541906</td>\n",
              "      <td>581587</td>\n",
              "      <td>23254</td>\n",
              "      <td>other</td>\n",
              "      <td>4</td>\n",
              "      <td>2011-12-09 12:50:00</td>\n",
              "      <td>4.15</td>\n",
              "      <td>12680.0</td>\n",
              "      <td>France</td>\n",
              "      <td>16.60</td>\n",
              "    </tr>\n",
              "    <tr>\n",
              "      <th>197922</th>\n",
              "      <td>397922</td>\n",
              "      <td>541907</td>\n",
              "      <td>581587</td>\n",
              "      <td>23255</td>\n",
              "      <td>other</td>\n",
              "      <td>4</td>\n",
              "      <td>2011-12-09 12:50:00</td>\n",
              "      <td>4.15</td>\n",
              "      <td>12680.0</td>\n",
              "      <td>France</td>\n",
              "      <td>16.60</td>\n",
              "    </tr>\n",
              "    <tr>\n",
              "      <th>197923</th>\n",
              "      <td>397923</td>\n",
              "      <td>541908</td>\n",
              "      <td>581587</td>\n",
              "      <td>22138</td>\n",
              "      <td>other</td>\n",
              "      <td>3</td>\n",
              "      <td>2011-12-09 12:50:00</td>\n",
              "      <td>4.95</td>\n",
              "      <td>12680.0</td>\n",
              "      <td>France</td>\n",
              "      <td>14.85</td>\n",
              "    </tr>\n",
              "  </tbody>\n",
              "</table>\n",
              "<p>397924 rows × 11 columns</p>\n",
              "</div>"
            ],
            "text/plain": [
              "        Unnamed: 0  Unnamed: 0.1  ...         Country PrecioTotal\n",
              "0                0             0  ...  United Kingdom       15.30\n",
              "1                1             1  ...  United Kingdom       20.34\n",
              "2                2             2  ...  United Kingdom       22.00\n",
              "3                3             3  ...  United Kingdom       20.34\n",
              "4                4             4  ...  United Kingdom       20.34\n",
              "...            ...           ...  ...             ...         ...\n",
              "197919      397919        541904  ...          France       10.20\n",
              "197920      397920        541905  ...          France       12.60\n",
              "197921      397921        541906  ...          France       16.60\n",
              "197922      397922        541907  ...          France       16.60\n",
              "197923      397923        541908  ...          France       14.85\n",
              "\n",
              "[397924 rows x 11 columns]"
            ]
          },
          "metadata": {
            "tags": []
          },
          "execution_count": 6
        }
      ]
    },
    {
      "cell_type": "code",
      "metadata": {
        "id": "4RcRwZvNdDlP"
      },
      "source": [
        "#borramos las columnas que no vamos a necesitar para este análisis\n",
        "df = df.drop(['Unnamed: 0','Unnamed: 0.1', 'Description', 'Quantity', 'UnitPrice', 'Country', 'StockCode'], axis=1)"
      ],
      "execution_count": 7,
      "outputs": []
    },
    {
      "cell_type": "code",
      "metadata": {
        "id": "j24dlHc4nEsf",
        "colab": {
          "base_uri": "https://localhost:8080/",
          "height": 419
        },
        "outputId": "f7dae46d-2844-4aa3-ed41-5ff1fff3e792"
      },
      "source": [
        "df"
      ],
      "execution_count": 8,
      "outputs": [
        {
          "output_type": "execute_result",
          "data": {
            "text/html": [
              "<div>\n",
              "<style scoped>\n",
              "    .dataframe tbody tr th:only-of-type {\n",
              "        vertical-align: middle;\n",
              "    }\n",
              "\n",
              "    .dataframe tbody tr th {\n",
              "        vertical-align: top;\n",
              "    }\n",
              "\n",
              "    .dataframe thead th {\n",
              "        text-align: right;\n",
              "    }\n",
              "</style>\n",
              "<table border=\"1\" class=\"dataframe\">\n",
              "  <thead>\n",
              "    <tr style=\"text-align: right;\">\n",
              "      <th></th>\n",
              "      <th>InvoiceNo</th>\n",
              "      <th>InvoiceDate</th>\n",
              "      <th>CustomerID</th>\n",
              "      <th>PrecioTotal</th>\n",
              "    </tr>\n",
              "  </thead>\n",
              "  <tbody>\n",
              "    <tr>\n",
              "      <th>0</th>\n",
              "      <td>536365</td>\n",
              "      <td>2010-12-01 08:26:00</td>\n",
              "      <td>17850.0</td>\n",
              "      <td>15.30</td>\n",
              "    </tr>\n",
              "    <tr>\n",
              "      <th>1</th>\n",
              "      <td>536365</td>\n",
              "      <td>2010-12-01 08:26:00</td>\n",
              "      <td>17850.0</td>\n",
              "      <td>20.34</td>\n",
              "    </tr>\n",
              "    <tr>\n",
              "      <th>2</th>\n",
              "      <td>536365</td>\n",
              "      <td>2010-12-01 08:26:00</td>\n",
              "      <td>17850.0</td>\n",
              "      <td>22.00</td>\n",
              "    </tr>\n",
              "    <tr>\n",
              "      <th>3</th>\n",
              "      <td>536365</td>\n",
              "      <td>2010-12-01 08:26:00</td>\n",
              "      <td>17850.0</td>\n",
              "      <td>20.34</td>\n",
              "    </tr>\n",
              "    <tr>\n",
              "      <th>4</th>\n",
              "      <td>536365</td>\n",
              "      <td>2010-12-01 08:26:00</td>\n",
              "      <td>17850.0</td>\n",
              "      <td>20.34</td>\n",
              "    </tr>\n",
              "    <tr>\n",
              "      <th>...</th>\n",
              "      <td>...</td>\n",
              "      <td>...</td>\n",
              "      <td>...</td>\n",
              "      <td>...</td>\n",
              "    </tr>\n",
              "    <tr>\n",
              "      <th>197919</th>\n",
              "      <td>581587</td>\n",
              "      <td>2011-12-09 12:50:00</td>\n",
              "      <td>12680.0</td>\n",
              "      <td>10.20</td>\n",
              "    </tr>\n",
              "    <tr>\n",
              "      <th>197920</th>\n",
              "      <td>581587</td>\n",
              "      <td>2011-12-09 12:50:00</td>\n",
              "      <td>12680.0</td>\n",
              "      <td>12.60</td>\n",
              "    </tr>\n",
              "    <tr>\n",
              "      <th>197921</th>\n",
              "      <td>581587</td>\n",
              "      <td>2011-12-09 12:50:00</td>\n",
              "      <td>12680.0</td>\n",
              "      <td>16.60</td>\n",
              "    </tr>\n",
              "    <tr>\n",
              "      <th>197922</th>\n",
              "      <td>581587</td>\n",
              "      <td>2011-12-09 12:50:00</td>\n",
              "      <td>12680.0</td>\n",
              "      <td>16.60</td>\n",
              "    </tr>\n",
              "    <tr>\n",
              "      <th>197923</th>\n",
              "      <td>581587</td>\n",
              "      <td>2011-12-09 12:50:00</td>\n",
              "      <td>12680.0</td>\n",
              "      <td>14.85</td>\n",
              "    </tr>\n",
              "  </tbody>\n",
              "</table>\n",
              "<p>397924 rows × 4 columns</p>\n",
              "</div>"
            ],
            "text/plain": [
              "        InvoiceNo          InvoiceDate  CustomerID  PrecioTotal\n",
              "0          536365  2010-12-01 08:26:00     17850.0        15.30\n",
              "1          536365  2010-12-01 08:26:00     17850.0        20.34\n",
              "2          536365  2010-12-01 08:26:00     17850.0        22.00\n",
              "3          536365  2010-12-01 08:26:00     17850.0        20.34\n",
              "4          536365  2010-12-01 08:26:00     17850.0        20.34\n",
              "...           ...                  ...         ...          ...\n",
              "197919     581587  2011-12-09 12:50:00     12680.0        10.20\n",
              "197920     581587  2011-12-09 12:50:00     12680.0        12.60\n",
              "197921     581587  2011-12-09 12:50:00     12680.0        16.60\n",
              "197922     581587  2011-12-09 12:50:00     12680.0        16.60\n",
              "197923     581587  2011-12-09 12:50:00     12680.0        14.85\n",
              "\n",
              "[397924 rows x 4 columns]"
            ]
          },
          "metadata": {
            "tags": []
          },
          "execution_count": 8
        }
      ]
    },
    {
      "cell_type": "markdown",
      "metadata": {
        "id": "ME-Ji_EUGfai"
      },
      "source": [
        "Agruparemos nuestros datos por transacciones.\n",
        "Debido a que debemos saber la frecuencia y la ultima vez que un cliente uso nuestro servicio, no podemos agrupar directamente por cliente"
      ]
    },
    {
      "cell_type": "code",
      "metadata": {
        "colab": {
          "base_uri": "https://localhost:8080/",
          "height": 419
        },
        "id": "TCDXMSqe_emV",
        "outputId": "8e867ca1-fb02-4db4-b132-787418eec8ea"
      },
      "source": [
        "transaction = df.groupby(['InvoiceNo','CustomerID', 'InvoiceDate'], as_index=False).sum()\n",
        "transaction"
      ],
      "execution_count": 9,
      "outputs": [
        {
          "output_type": "execute_result",
          "data": {
            "text/html": [
              "<div>\n",
              "<style scoped>\n",
              "    .dataframe tbody tr th:only-of-type {\n",
              "        vertical-align: middle;\n",
              "    }\n",
              "\n",
              "    .dataframe tbody tr th {\n",
              "        vertical-align: top;\n",
              "    }\n",
              "\n",
              "    .dataframe thead th {\n",
              "        text-align: right;\n",
              "    }\n",
              "</style>\n",
              "<table border=\"1\" class=\"dataframe\">\n",
              "  <thead>\n",
              "    <tr style=\"text-align: right;\">\n",
              "      <th></th>\n",
              "      <th>InvoiceNo</th>\n",
              "      <th>CustomerID</th>\n",
              "      <th>InvoiceDate</th>\n",
              "      <th>PrecioTotal</th>\n",
              "    </tr>\n",
              "  </thead>\n",
              "  <tbody>\n",
              "    <tr>\n",
              "      <th>0</th>\n",
              "      <td>536365</td>\n",
              "      <td>17850.0</td>\n",
              "      <td>2010-12-01 08:26:00</td>\n",
              "      <td>139.12</td>\n",
              "    </tr>\n",
              "    <tr>\n",
              "      <th>1</th>\n",
              "      <td>536366</td>\n",
              "      <td>17850.0</td>\n",
              "      <td>2010-12-01 08:28:00</td>\n",
              "      <td>22.20</td>\n",
              "    </tr>\n",
              "    <tr>\n",
              "      <th>2</th>\n",
              "      <td>536367</td>\n",
              "      <td>13047.0</td>\n",
              "      <td>2010-12-01 08:34:00</td>\n",
              "      <td>278.73</td>\n",
              "    </tr>\n",
              "    <tr>\n",
              "      <th>3</th>\n",
              "      <td>536368</td>\n",
              "      <td>13047.0</td>\n",
              "      <td>2010-12-01 08:34:00</td>\n",
              "      <td>70.05</td>\n",
              "    </tr>\n",
              "    <tr>\n",
              "      <th>4</th>\n",
              "      <td>536369</td>\n",
              "      <td>13047.0</td>\n",
              "      <td>2010-12-01 08:35:00</td>\n",
              "      <td>17.85</td>\n",
              "    </tr>\n",
              "    <tr>\n",
              "      <th>...</th>\n",
              "      <td>...</td>\n",
              "      <td>...</td>\n",
              "      <td>...</td>\n",
              "      <td>...</td>\n",
              "    </tr>\n",
              "    <tr>\n",
              "      <th>18561</th>\n",
              "      <td>581583</td>\n",
              "      <td>13777.0</td>\n",
              "      <td>2011-12-09 12:23:00</td>\n",
              "      <td>124.60</td>\n",
              "    </tr>\n",
              "    <tr>\n",
              "      <th>18562</th>\n",
              "      <td>581584</td>\n",
              "      <td>13777.0</td>\n",
              "      <td>2011-12-09 12:25:00</td>\n",
              "      <td>140.64</td>\n",
              "    </tr>\n",
              "    <tr>\n",
              "      <th>18563</th>\n",
              "      <td>581585</td>\n",
              "      <td>15804.0</td>\n",
              "      <td>2011-12-09 12:31:00</td>\n",
              "      <td>329.05</td>\n",
              "    </tr>\n",
              "    <tr>\n",
              "      <th>18564</th>\n",
              "      <td>581586</td>\n",
              "      <td>13113.0</td>\n",
              "      <td>2011-12-09 12:49:00</td>\n",
              "      <td>339.20</td>\n",
              "    </tr>\n",
              "    <tr>\n",
              "      <th>18565</th>\n",
              "      <td>581587</td>\n",
              "      <td>12680.0</td>\n",
              "      <td>2011-12-09 12:50:00</td>\n",
              "      <td>249.45</td>\n",
              "    </tr>\n",
              "  </tbody>\n",
              "</table>\n",
              "<p>18566 rows × 4 columns</p>\n",
              "</div>"
            ],
            "text/plain": [
              "       InvoiceNo  CustomerID          InvoiceDate  PrecioTotal\n",
              "0         536365     17850.0  2010-12-01 08:26:00       139.12\n",
              "1         536366     17850.0  2010-12-01 08:28:00        22.20\n",
              "2         536367     13047.0  2010-12-01 08:34:00       278.73\n",
              "3         536368     13047.0  2010-12-01 08:34:00        70.05\n",
              "4         536369     13047.0  2010-12-01 08:35:00        17.85\n",
              "...          ...         ...                  ...          ...\n",
              "18561     581583     13777.0  2011-12-09 12:23:00       124.60\n",
              "18562     581584     13777.0  2011-12-09 12:25:00       140.64\n",
              "18563     581585     15804.0  2011-12-09 12:31:00       329.05\n",
              "18564     581586     13113.0  2011-12-09 12:49:00       339.20\n",
              "18565     581587     12680.0  2011-12-09 12:50:00       249.45\n",
              "\n",
              "[18566 rows x 4 columns]"
            ]
          },
          "metadata": {
            "tags": []
          },
          "execution_count": 9
        }
      ]
    },
    {
      "cell_type": "markdown",
      "metadata": {
        "id": "ESiyhlDrGzRQ"
      },
      "source": [
        "Convertiremos la columna InvoiceDate en un objeto datatime-data para eliminar las horas de la fecha de cada transaccion y asi reducir la dimension de las futuras variables"
      ]
    },
    {
      "cell_type": "code",
      "metadata": {
        "colab": {
          "base_uri": "https://localhost:8080/",
          "height": 419
        },
        "id": "VBjbH3No_1z3",
        "outputId": "57b491cc-8876-4c10-f97f-4955fb50575f"
      },
      "source": [
        "transaction['InvoiceDate'] = pd.to_datetime(transaction['InvoiceDate'])\n",
        "transaction[\"day\"] = transaction[\"InvoiceDate\"].dt.date\n",
        "transaction"
      ],
      "execution_count": 10,
      "outputs": [
        {
          "output_type": "execute_result",
          "data": {
            "text/html": [
              "<div>\n",
              "<style scoped>\n",
              "    .dataframe tbody tr th:only-of-type {\n",
              "        vertical-align: middle;\n",
              "    }\n",
              "\n",
              "    .dataframe tbody tr th {\n",
              "        vertical-align: top;\n",
              "    }\n",
              "\n",
              "    .dataframe thead th {\n",
              "        text-align: right;\n",
              "    }\n",
              "</style>\n",
              "<table border=\"1\" class=\"dataframe\">\n",
              "  <thead>\n",
              "    <tr style=\"text-align: right;\">\n",
              "      <th></th>\n",
              "      <th>InvoiceNo</th>\n",
              "      <th>CustomerID</th>\n",
              "      <th>InvoiceDate</th>\n",
              "      <th>PrecioTotal</th>\n",
              "      <th>day</th>\n",
              "    </tr>\n",
              "  </thead>\n",
              "  <tbody>\n",
              "    <tr>\n",
              "      <th>0</th>\n",
              "      <td>536365</td>\n",
              "      <td>17850.0</td>\n",
              "      <td>2010-12-01 08:26:00</td>\n",
              "      <td>139.12</td>\n",
              "      <td>2010-12-01</td>\n",
              "    </tr>\n",
              "    <tr>\n",
              "      <th>1</th>\n",
              "      <td>536366</td>\n",
              "      <td>17850.0</td>\n",
              "      <td>2010-12-01 08:28:00</td>\n",
              "      <td>22.20</td>\n",
              "      <td>2010-12-01</td>\n",
              "    </tr>\n",
              "    <tr>\n",
              "      <th>2</th>\n",
              "      <td>536367</td>\n",
              "      <td>13047.0</td>\n",
              "      <td>2010-12-01 08:34:00</td>\n",
              "      <td>278.73</td>\n",
              "      <td>2010-12-01</td>\n",
              "    </tr>\n",
              "    <tr>\n",
              "      <th>3</th>\n",
              "      <td>536368</td>\n",
              "      <td>13047.0</td>\n",
              "      <td>2010-12-01 08:34:00</td>\n",
              "      <td>70.05</td>\n",
              "      <td>2010-12-01</td>\n",
              "    </tr>\n",
              "    <tr>\n",
              "      <th>4</th>\n",
              "      <td>536369</td>\n",
              "      <td>13047.0</td>\n",
              "      <td>2010-12-01 08:35:00</td>\n",
              "      <td>17.85</td>\n",
              "      <td>2010-12-01</td>\n",
              "    </tr>\n",
              "    <tr>\n",
              "      <th>...</th>\n",
              "      <td>...</td>\n",
              "      <td>...</td>\n",
              "      <td>...</td>\n",
              "      <td>...</td>\n",
              "      <td>...</td>\n",
              "    </tr>\n",
              "    <tr>\n",
              "      <th>18561</th>\n",
              "      <td>581583</td>\n",
              "      <td>13777.0</td>\n",
              "      <td>2011-12-09 12:23:00</td>\n",
              "      <td>124.60</td>\n",
              "      <td>2011-12-09</td>\n",
              "    </tr>\n",
              "    <tr>\n",
              "      <th>18562</th>\n",
              "      <td>581584</td>\n",
              "      <td>13777.0</td>\n",
              "      <td>2011-12-09 12:25:00</td>\n",
              "      <td>140.64</td>\n",
              "      <td>2011-12-09</td>\n",
              "    </tr>\n",
              "    <tr>\n",
              "      <th>18563</th>\n",
              "      <td>581585</td>\n",
              "      <td>15804.0</td>\n",
              "      <td>2011-12-09 12:31:00</td>\n",
              "      <td>329.05</td>\n",
              "      <td>2011-12-09</td>\n",
              "    </tr>\n",
              "    <tr>\n",
              "      <th>18564</th>\n",
              "      <td>581586</td>\n",
              "      <td>13113.0</td>\n",
              "      <td>2011-12-09 12:49:00</td>\n",
              "      <td>339.20</td>\n",
              "      <td>2011-12-09</td>\n",
              "    </tr>\n",
              "    <tr>\n",
              "      <th>18565</th>\n",
              "      <td>581587</td>\n",
              "      <td>12680.0</td>\n",
              "      <td>2011-12-09 12:50:00</td>\n",
              "      <td>249.45</td>\n",
              "      <td>2011-12-09</td>\n",
              "    </tr>\n",
              "  </tbody>\n",
              "</table>\n",
              "<p>18566 rows × 5 columns</p>\n",
              "</div>"
            ],
            "text/plain": [
              "       InvoiceNo  CustomerID         InvoiceDate  PrecioTotal         day\n",
              "0         536365     17850.0 2010-12-01 08:26:00       139.12  2010-12-01\n",
              "1         536366     17850.0 2010-12-01 08:28:00        22.20  2010-12-01\n",
              "2         536367     13047.0 2010-12-01 08:34:00       278.73  2010-12-01\n",
              "3         536368     13047.0 2010-12-01 08:34:00        70.05  2010-12-01\n",
              "4         536369     13047.0 2010-12-01 08:35:00        17.85  2010-12-01\n",
              "...          ...         ...                 ...          ...         ...\n",
              "18561     581583     13777.0 2011-12-09 12:23:00       124.60  2011-12-09\n",
              "18562     581584     13777.0 2011-12-09 12:25:00       140.64  2011-12-09\n",
              "18563     581585     15804.0 2011-12-09 12:31:00       329.05  2011-12-09\n",
              "18564     581586     13113.0 2011-12-09 12:49:00       339.20  2011-12-09\n",
              "18565     581587     12680.0 2011-12-09 12:50:00       249.45  2011-12-09\n",
              "\n",
              "[18566 rows x 5 columns]"
            ]
          },
          "metadata": {
            "tags": []
          },
          "execution_count": 10
        }
      ]
    },
    {
      "cell_type": "code",
      "metadata": {
        "colab": {
          "base_uri": "https://localhost:8080/",
          "height": 419
        },
        "id": "n7jgB7aWC93r",
        "outputId": "74b1d3e7-732d-491f-9532-2dbff88a3fda"
      },
      "source": [
        "transaction = transaction.drop(['InvoiceDate'], axis=1)\n",
        "transaction"
      ],
      "execution_count": 11,
      "outputs": [
        {
          "output_type": "execute_result",
          "data": {
            "text/html": [
              "<div>\n",
              "<style scoped>\n",
              "    .dataframe tbody tr th:only-of-type {\n",
              "        vertical-align: middle;\n",
              "    }\n",
              "\n",
              "    .dataframe tbody tr th {\n",
              "        vertical-align: top;\n",
              "    }\n",
              "\n",
              "    .dataframe thead th {\n",
              "        text-align: right;\n",
              "    }\n",
              "</style>\n",
              "<table border=\"1\" class=\"dataframe\">\n",
              "  <thead>\n",
              "    <tr style=\"text-align: right;\">\n",
              "      <th></th>\n",
              "      <th>InvoiceNo</th>\n",
              "      <th>CustomerID</th>\n",
              "      <th>PrecioTotal</th>\n",
              "      <th>day</th>\n",
              "    </tr>\n",
              "  </thead>\n",
              "  <tbody>\n",
              "    <tr>\n",
              "      <th>0</th>\n",
              "      <td>536365</td>\n",
              "      <td>17850.0</td>\n",
              "      <td>139.12</td>\n",
              "      <td>2010-12-01</td>\n",
              "    </tr>\n",
              "    <tr>\n",
              "      <th>1</th>\n",
              "      <td>536366</td>\n",
              "      <td>17850.0</td>\n",
              "      <td>22.20</td>\n",
              "      <td>2010-12-01</td>\n",
              "    </tr>\n",
              "    <tr>\n",
              "      <th>2</th>\n",
              "      <td>536367</td>\n",
              "      <td>13047.0</td>\n",
              "      <td>278.73</td>\n",
              "      <td>2010-12-01</td>\n",
              "    </tr>\n",
              "    <tr>\n",
              "      <th>3</th>\n",
              "      <td>536368</td>\n",
              "      <td>13047.0</td>\n",
              "      <td>70.05</td>\n",
              "      <td>2010-12-01</td>\n",
              "    </tr>\n",
              "    <tr>\n",
              "      <th>4</th>\n",
              "      <td>536369</td>\n",
              "      <td>13047.0</td>\n",
              "      <td>17.85</td>\n",
              "      <td>2010-12-01</td>\n",
              "    </tr>\n",
              "    <tr>\n",
              "      <th>...</th>\n",
              "      <td>...</td>\n",
              "      <td>...</td>\n",
              "      <td>...</td>\n",
              "      <td>...</td>\n",
              "    </tr>\n",
              "    <tr>\n",
              "      <th>18561</th>\n",
              "      <td>581583</td>\n",
              "      <td>13777.0</td>\n",
              "      <td>124.60</td>\n",
              "      <td>2011-12-09</td>\n",
              "    </tr>\n",
              "    <tr>\n",
              "      <th>18562</th>\n",
              "      <td>581584</td>\n",
              "      <td>13777.0</td>\n",
              "      <td>140.64</td>\n",
              "      <td>2011-12-09</td>\n",
              "    </tr>\n",
              "    <tr>\n",
              "      <th>18563</th>\n",
              "      <td>581585</td>\n",
              "      <td>15804.0</td>\n",
              "      <td>329.05</td>\n",
              "      <td>2011-12-09</td>\n",
              "    </tr>\n",
              "    <tr>\n",
              "      <th>18564</th>\n",
              "      <td>581586</td>\n",
              "      <td>13113.0</td>\n",
              "      <td>339.20</td>\n",
              "      <td>2011-12-09</td>\n",
              "    </tr>\n",
              "    <tr>\n",
              "      <th>18565</th>\n",
              "      <td>581587</td>\n",
              "      <td>12680.0</td>\n",
              "      <td>249.45</td>\n",
              "      <td>2011-12-09</td>\n",
              "    </tr>\n",
              "  </tbody>\n",
              "</table>\n",
              "<p>18566 rows × 4 columns</p>\n",
              "</div>"
            ],
            "text/plain": [
              "       InvoiceNo  CustomerID  PrecioTotal         day\n",
              "0         536365     17850.0       139.12  2010-12-01\n",
              "1         536366     17850.0        22.20  2010-12-01\n",
              "2         536367     13047.0       278.73  2010-12-01\n",
              "3         536368     13047.0        70.05  2010-12-01\n",
              "4         536369     13047.0        17.85  2010-12-01\n",
              "...          ...         ...          ...         ...\n",
              "18561     581583     13777.0       124.60  2011-12-09\n",
              "18562     581584     13777.0       140.64  2011-12-09\n",
              "18563     581585     15804.0       329.05  2011-12-09\n",
              "18564     581586     13113.0       339.20  2011-12-09\n",
              "18565     581587     12680.0       249.45  2011-12-09\n",
              "\n",
              "[18566 rows x 4 columns]"
            ]
          },
          "metadata": {
            "tags": []
          },
          "execution_count": 11
        }
      ]
    },
    {
      "cell_type": "markdown",
      "metadata": {
        "id": "lga-u0NDHJjG"
      },
      "source": [
        "Debemos calcular cual es el último día que se hizo una transación y establecer ese día como punto de calculo para las demás transacciones.\n",
        "Debido a que no todos los usuarios hicieron la primera compra el mismo día, la frecuencia y el dinero gastado no se podran coger en valor absoluto, sino que habrá que relativizarlos con la antigüedad de cada uno de los usuarios."
      ]
    },
    {
      "cell_type": "code",
      "metadata": {
        "colab": {
          "base_uri": "https://localhost:8080/"
        },
        "id": "TcnhD8ezCX2D",
        "outputId": "43e46dfb-3bbe-43d7-8734-5aad886b4971"
      },
      "source": [
        "transaction['day'].max()"
      ],
      "execution_count": 12,
      "outputs": [
        {
          "output_type": "execute_result",
          "data": {
            "text/plain": [
              "datetime.date(2011, 12, 9)"
            ]
          },
          "metadata": {
            "tags": []
          },
          "execution_count": 12
        }
      ]
    },
    {
      "cell_type": "code",
      "metadata": {
        "id": "4XhN_R_DC4WP"
      },
      "source": [
        "last_day = dt.date(2011,12,10)"
      ],
      "execution_count": 13,
      "outputs": []
    },
    {
      "cell_type": "markdown",
      "metadata": {
        "id": "a955iM6xHzp_"
      },
      "source": [
        "Establecemos la cantidad de dinero absoluto gastado por cada uno de nuestros usuarios."
      ]
    },
    {
      "cell_type": "code",
      "metadata": {
        "colab": {
          "base_uri": "https://localhost:8080/",
          "height": 419
        },
        "id": "5nWRU6FSC7uv",
        "outputId": "27cff479-2e35-4aab-f6c7-c4a2007e4138"
      },
      "source": [
        "total_money_value= transaction.groupby(['CustomerID'], as_index=False).sum()\n",
        "total_money_value = total_money_value.drop(['InvoiceNo'], axis=1)\n",
        "total_money_value"
      ],
      "execution_count": 14,
      "outputs": [
        {
          "output_type": "execute_result",
          "data": {
            "text/html": [
              "<div>\n",
              "<style scoped>\n",
              "    .dataframe tbody tr th:only-of-type {\n",
              "        vertical-align: middle;\n",
              "    }\n",
              "\n",
              "    .dataframe tbody tr th {\n",
              "        vertical-align: top;\n",
              "    }\n",
              "\n",
              "    .dataframe thead th {\n",
              "        text-align: right;\n",
              "    }\n",
              "</style>\n",
              "<table border=\"1\" class=\"dataframe\">\n",
              "  <thead>\n",
              "    <tr style=\"text-align: right;\">\n",
              "      <th></th>\n",
              "      <th>CustomerID</th>\n",
              "      <th>PrecioTotal</th>\n",
              "    </tr>\n",
              "  </thead>\n",
              "  <tbody>\n",
              "    <tr>\n",
              "      <th>0</th>\n",
              "      <td>12346.0</td>\n",
              "      <td>77183.60</td>\n",
              "    </tr>\n",
              "    <tr>\n",
              "      <th>1</th>\n",
              "      <td>12347.0</td>\n",
              "      <td>4310.00</td>\n",
              "    </tr>\n",
              "    <tr>\n",
              "      <th>2</th>\n",
              "      <td>12348.0</td>\n",
              "      <td>1797.24</td>\n",
              "    </tr>\n",
              "    <tr>\n",
              "      <th>3</th>\n",
              "      <td>12349.0</td>\n",
              "      <td>1757.55</td>\n",
              "    </tr>\n",
              "    <tr>\n",
              "      <th>4</th>\n",
              "      <td>12350.0</td>\n",
              "      <td>334.40</td>\n",
              "    </tr>\n",
              "    <tr>\n",
              "      <th>...</th>\n",
              "      <td>...</td>\n",
              "      <td>...</td>\n",
              "    </tr>\n",
              "    <tr>\n",
              "      <th>4334</th>\n",
              "      <td>18280.0</td>\n",
              "      <td>180.60</td>\n",
              "    </tr>\n",
              "    <tr>\n",
              "      <th>4335</th>\n",
              "      <td>18281.0</td>\n",
              "      <td>80.82</td>\n",
              "    </tr>\n",
              "    <tr>\n",
              "      <th>4336</th>\n",
              "      <td>18282.0</td>\n",
              "      <td>178.05</td>\n",
              "    </tr>\n",
              "    <tr>\n",
              "      <th>4337</th>\n",
              "      <td>18283.0</td>\n",
              "      <td>2094.88</td>\n",
              "    </tr>\n",
              "    <tr>\n",
              "      <th>4338</th>\n",
              "      <td>18287.0</td>\n",
              "      <td>1837.28</td>\n",
              "    </tr>\n",
              "  </tbody>\n",
              "</table>\n",
              "<p>4339 rows × 2 columns</p>\n",
              "</div>"
            ],
            "text/plain": [
              "      CustomerID  PrecioTotal\n",
              "0        12346.0     77183.60\n",
              "1        12347.0      4310.00\n",
              "2        12348.0      1797.24\n",
              "3        12349.0      1757.55\n",
              "4        12350.0       334.40\n",
              "...          ...          ...\n",
              "4334     18280.0       180.60\n",
              "4335     18281.0        80.82\n",
              "4336     18282.0       178.05\n",
              "4337     18283.0      2094.88\n",
              "4338     18287.0      1837.28\n",
              "\n",
              "[4339 rows x 2 columns]"
            ]
          },
          "metadata": {
            "tags": []
          },
          "execution_count": 14
        }
      ]
    },
    {
      "cell_type": "markdown",
      "metadata": {
        "id": "TIpw2sonIE8k"
      },
      "source": [
        "Establecemos la antigüedad de cada uno de nuestros usuarios. Para ello restamos el día de la primera comprar con el último día de que tenemos datso, que anteriormente cogimos como referencia"
      ]
    },
    {
      "cell_type": "code",
      "metadata": {
        "colab": {
          "base_uri": "https://localhost:8080/",
          "height": 419
        },
        "id": "NzotsGmCEHsp",
        "outputId": "7e9cac0e-0a1f-42a8-bc99-b2e4ff31733c"
      },
      "source": [
        "normalice = transaction.groupby(['day', 'CustomerID'], as_index=False).count()\n",
        "normalice = normalice.drop(['InvoiceNo','PrecioTotal'], axis=1)\n",
        "normalice"
      ],
      "execution_count": 15,
      "outputs": [
        {
          "output_type": "execute_result",
          "data": {
            "text/html": [
              "<div>\n",
              "<style scoped>\n",
              "    .dataframe tbody tr th:only-of-type {\n",
              "        vertical-align: middle;\n",
              "    }\n",
              "\n",
              "    .dataframe tbody tr th {\n",
              "        vertical-align: top;\n",
              "    }\n",
              "\n",
              "    .dataframe thead th {\n",
              "        text-align: right;\n",
              "    }\n",
              "</style>\n",
              "<table border=\"1\" class=\"dataframe\">\n",
              "  <thead>\n",
              "    <tr style=\"text-align: right;\">\n",
              "      <th></th>\n",
              "      <th>day</th>\n",
              "      <th>CustomerID</th>\n",
              "    </tr>\n",
              "  </thead>\n",
              "  <tbody>\n",
              "    <tr>\n",
              "      <th>0</th>\n",
              "      <td>2010-12-01</td>\n",
              "      <td>12431.0</td>\n",
              "    </tr>\n",
              "    <tr>\n",
              "      <th>1</th>\n",
              "      <td>2010-12-01</td>\n",
              "      <td>12433.0</td>\n",
              "    </tr>\n",
              "    <tr>\n",
              "      <th>2</th>\n",
              "      <td>2010-12-01</td>\n",
              "      <td>12583.0</td>\n",
              "    </tr>\n",
              "    <tr>\n",
              "      <th>3</th>\n",
              "      <td>2010-12-01</td>\n",
              "      <td>12662.0</td>\n",
              "    </tr>\n",
              "    <tr>\n",
              "      <th>4</th>\n",
              "      <td>2010-12-01</td>\n",
              "      <td>12748.0</td>\n",
              "    </tr>\n",
              "    <tr>\n",
              "      <th>...</th>\n",
              "      <td>...</td>\n",
              "      <td>...</td>\n",
              "    </tr>\n",
              "    <tr>\n",
              "      <th>16761</th>\n",
              "      <td>2011-12-09</td>\n",
              "      <td>17428.0</td>\n",
              "    </tr>\n",
              "    <tr>\n",
              "      <th>16762</th>\n",
              "      <td>2011-12-09</td>\n",
              "      <td>17490.0</td>\n",
              "    </tr>\n",
              "    <tr>\n",
              "      <th>16763</th>\n",
              "      <td>2011-12-09</td>\n",
              "      <td>17581.0</td>\n",
              "    </tr>\n",
              "    <tr>\n",
              "      <th>16764</th>\n",
              "      <td>2011-12-09</td>\n",
              "      <td>17754.0</td>\n",
              "    </tr>\n",
              "    <tr>\n",
              "      <th>16765</th>\n",
              "      <td>2011-12-09</td>\n",
              "      <td>18102.0</td>\n",
              "    </tr>\n",
              "  </tbody>\n",
              "</table>\n",
              "<p>16766 rows × 2 columns</p>\n",
              "</div>"
            ],
            "text/plain": [
              "              day  CustomerID\n",
              "0      2010-12-01     12431.0\n",
              "1      2010-12-01     12433.0\n",
              "2      2010-12-01     12583.0\n",
              "3      2010-12-01     12662.0\n",
              "4      2010-12-01     12748.0\n",
              "...           ...         ...\n",
              "16761  2011-12-09     17428.0\n",
              "16762  2011-12-09     17490.0\n",
              "16763  2011-12-09     17581.0\n",
              "16764  2011-12-09     17754.0\n",
              "16765  2011-12-09     18102.0\n",
              "\n",
              "[16766 rows x 2 columns]"
            ]
          },
          "metadata": {
            "tags": []
          },
          "execution_count": 15
        }
      ]
    },
    {
      "cell_type": "code",
      "metadata": {
        "colab": {
          "base_uri": "https://localhost:8080/",
          "height": 419
        },
        "id": "rxgXLYm1Gm2c",
        "outputId": "ac899d16-9429-40e0-d0f6-cc5588e632b4"
      },
      "source": [
        "normalice['seniority'] = ''\n",
        "normalice"
      ],
      "execution_count": 16,
      "outputs": [
        {
          "output_type": "execute_result",
          "data": {
            "text/html": [
              "<div>\n",
              "<style scoped>\n",
              "    .dataframe tbody tr th:only-of-type {\n",
              "        vertical-align: middle;\n",
              "    }\n",
              "\n",
              "    .dataframe tbody tr th {\n",
              "        vertical-align: top;\n",
              "    }\n",
              "\n",
              "    .dataframe thead th {\n",
              "        text-align: right;\n",
              "    }\n",
              "</style>\n",
              "<table border=\"1\" class=\"dataframe\">\n",
              "  <thead>\n",
              "    <tr style=\"text-align: right;\">\n",
              "      <th></th>\n",
              "      <th>day</th>\n",
              "      <th>CustomerID</th>\n",
              "      <th>seniority</th>\n",
              "    </tr>\n",
              "  </thead>\n",
              "  <tbody>\n",
              "    <tr>\n",
              "      <th>0</th>\n",
              "      <td>2010-12-01</td>\n",
              "      <td>12431.0</td>\n",
              "      <td></td>\n",
              "    </tr>\n",
              "    <tr>\n",
              "      <th>1</th>\n",
              "      <td>2010-12-01</td>\n",
              "      <td>12433.0</td>\n",
              "      <td></td>\n",
              "    </tr>\n",
              "    <tr>\n",
              "      <th>2</th>\n",
              "      <td>2010-12-01</td>\n",
              "      <td>12583.0</td>\n",
              "      <td></td>\n",
              "    </tr>\n",
              "    <tr>\n",
              "      <th>3</th>\n",
              "      <td>2010-12-01</td>\n",
              "      <td>12662.0</td>\n",
              "      <td></td>\n",
              "    </tr>\n",
              "    <tr>\n",
              "      <th>4</th>\n",
              "      <td>2010-12-01</td>\n",
              "      <td>12748.0</td>\n",
              "      <td></td>\n",
              "    </tr>\n",
              "    <tr>\n",
              "      <th>...</th>\n",
              "      <td>...</td>\n",
              "      <td>...</td>\n",
              "      <td>...</td>\n",
              "    </tr>\n",
              "    <tr>\n",
              "      <th>16761</th>\n",
              "      <td>2011-12-09</td>\n",
              "      <td>17428.0</td>\n",
              "      <td></td>\n",
              "    </tr>\n",
              "    <tr>\n",
              "      <th>16762</th>\n",
              "      <td>2011-12-09</td>\n",
              "      <td>17490.0</td>\n",
              "      <td></td>\n",
              "    </tr>\n",
              "    <tr>\n",
              "      <th>16763</th>\n",
              "      <td>2011-12-09</td>\n",
              "      <td>17581.0</td>\n",
              "      <td></td>\n",
              "    </tr>\n",
              "    <tr>\n",
              "      <th>16764</th>\n",
              "      <td>2011-12-09</td>\n",
              "      <td>17754.0</td>\n",
              "      <td></td>\n",
              "    </tr>\n",
              "    <tr>\n",
              "      <th>16765</th>\n",
              "      <td>2011-12-09</td>\n",
              "      <td>18102.0</td>\n",
              "      <td></td>\n",
              "    </tr>\n",
              "  </tbody>\n",
              "</table>\n",
              "<p>16766 rows × 3 columns</p>\n",
              "</div>"
            ],
            "text/plain": [
              "              day  CustomerID seniority\n",
              "0      2010-12-01     12431.0          \n",
              "1      2010-12-01     12433.0          \n",
              "2      2010-12-01     12583.0          \n",
              "3      2010-12-01     12662.0          \n",
              "4      2010-12-01     12748.0          \n",
              "...           ...         ...       ...\n",
              "16761  2011-12-09     17428.0          \n",
              "16762  2011-12-09     17490.0          \n",
              "16763  2011-12-09     17581.0          \n",
              "16764  2011-12-09     17754.0          \n",
              "16765  2011-12-09     18102.0          \n",
              "\n",
              "[16766 rows x 3 columns]"
            ]
          },
          "metadata": {
            "tags": []
          },
          "execution_count": 16
        }
      ]
    },
    {
      "cell_type": "code",
      "metadata": {
        "id": "tQAXOnbHFJ2k"
      },
      "source": [
        "for x in range (0, len(normalice)):\n",
        "  normalice.iloc[x,2] = (last_day - normalice.iloc[x,0]).days"
      ],
      "execution_count": 17,
      "outputs": []
    },
    {
      "cell_type": "code",
      "metadata": {
        "colab": {
          "base_uri": "https://localhost:8080/",
          "height": 419
        },
        "id": "B6kX8OXIGOrf",
        "outputId": "ec69566e-290d-4952-abe2-68fdbede9af0"
      },
      "source": [
        "normalice"
      ],
      "execution_count": 18,
      "outputs": [
        {
          "output_type": "execute_result",
          "data": {
            "text/html": [
              "<div>\n",
              "<style scoped>\n",
              "    .dataframe tbody tr th:only-of-type {\n",
              "        vertical-align: middle;\n",
              "    }\n",
              "\n",
              "    .dataframe tbody tr th {\n",
              "        vertical-align: top;\n",
              "    }\n",
              "\n",
              "    .dataframe thead th {\n",
              "        text-align: right;\n",
              "    }\n",
              "</style>\n",
              "<table border=\"1\" class=\"dataframe\">\n",
              "  <thead>\n",
              "    <tr style=\"text-align: right;\">\n",
              "      <th></th>\n",
              "      <th>day</th>\n",
              "      <th>CustomerID</th>\n",
              "      <th>seniority</th>\n",
              "    </tr>\n",
              "  </thead>\n",
              "  <tbody>\n",
              "    <tr>\n",
              "      <th>0</th>\n",
              "      <td>2010-12-01</td>\n",
              "      <td>12431.0</td>\n",
              "      <td>374</td>\n",
              "    </tr>\n",
              "    <tr>\n",
              "      <th>1</th>\n",
              "      <td>2010-12-01</td>\n",
              "      <td>12433.0</td>\n",
              "      <td>374</td>\n",
              "    </tr>\n",
              "    <tr>\n",
              "      <th>2</th>\n",
              "      <td>2010-12-01</td>\n",
              "      <td>12583.0</td>\n",
              "      <td>374</td>\n",
              "    </tr>\n",
              "    <tr>\n",
              "      <th>3</th>\n",
              "      <td>2010-12-01</td>\n",
              "      <td>12662.0</td>\n",
              "      <td>374</td>\n",
              "    </tr>\n",
              "    <tr>\n",
              "      <th>4</th>\n",
              "      <td>2010-12-01</td>\n",
              "      <td>12748.0</td>\n",
              "      <td>374</td>\n",
              "    </tr>\n",
              "    <tr>\n",
              "      <th>...</th>\n",
              "      <td>...</td>\n",
              "      <td>...</td>\n",
              "      <td>...</td>\n",
              "    </tr>\n",
              "    <tr>\n",
              "      <th>16761</th>\n",
              "      <td>2011-12-09</td>\n",
              "      <td>17428.0</td>\n",
              "      <td>1</td>\n",
              "    </tr>\n",
              "    <tr>\n",
              "      <th>16762</th>\n",
              "      <td>2011-12-09</td>\n",
              "      <td>17490.0</td>\n",
              "      <td>1</td>\n",
              "    </tr>\n",
              "    <tr>\n",
              "      <th>16763</th>\n",
              "      <td>2011-12-09</td>\n",
              "      <td>17581.0</td>\n",
              "      <td>1</td>\n",
              "    </tr>\n",
              "    <tr>\n",
              "      <th>16764</th>\n",
              "      <td>2011-12-09</td>\n",
              "      <td>17754.0</td>\n",
              "      <td>1</td>\n",
              "    </tr>\n",
              "    <tr>\n",
              "      <th>16765</th>\n",
              "      <td>2011-12-09</td>\n",
              "      <td>18102.0</td>\n",
              "      <td>1</td>\n",
              "    </tr>\n",
              "  </tbody>\n",
              "</table>\n",
              "<p>16766 rows × 3 columns</p>\n",
              "</div>"
            ],
            "text/plain": [
              "              day  CustomerID seniority\n",
              "0      2010-12-01     12431.0       374\n",
              "1      2010-12-01     12433.0       374\n",
              "2      2010-12-01     12583.0       374\n",
              "3      2010-12-01     12662.0       374\n",
              "4      2010-12-01     12748.0       374\n",
              "...           ...         ...       ...\n",
              "16761  2011-12-09     17428.0         1\n",
              "16762  2011-12-09     17490.0         1\n",
              "16763  2011-12-09     17581.0         1\n",
              "16764  2011-12-09     17754.0         1\n",
              "16765  2011-12-09     18102.0         1\n",
              "\n",
              "[16766 rows x 3 columns]"
            ]
          },
          "metadata": {
            "tags": []
          },
          "execution_count": 18
        }
      ]
    },
    {
      "cell_type": "code",
      "metadata": {
        "colab": {
          "base_uri": "https://localhost:8080/"
        },
        "id": "aFexuZOIHQO7",
        "outputId": "e76bd6af-bd9c-4777-f6f2-0a158a62137e"
      },
      "source": [
        "type(normalice.iloc[0,2])"
      ],
      "execution_count": 19,
      "outputs": [
        {
          "output_type": "execute_result",
          "data": {
            "text/plain": [
              "int"
            ]
          },
          "metadata": {
            "tags": []
          },
          "execution_count": 19
        }
      ]
    },
    {
      "cell_type": "code",
      "metadata": {
        "id": "c9kJJzkCJnJm"
      },
      "source": [
        "normalice = normalice.drop(['day'], axis=1)"
      ],
      "execution_count": 20,
      "outputs": []
    },
    {
      "cell_type": "markdown",
      "metadata": {
        "id": "07q_rbCOIewi"
      },
      "source": [
        "Para conseguir la antigüedad de cada usuario, debemos agrupar todas transacciones hechas por cada usuario, cogiendo solamente la primera de ellas"
      ]
    },
    {
      "cell_type": "code",
      "metadata": {
        "colab": {
          "base_uri": "https://localhost:8080/",
          "height": 419
        },
        "id": "1iM098FHIvVt",
        "outputId": "6615d78e-943d-4c10-8e35-adbeb1c32192"
      },
      "source": [
        "normalice_final= normalice.groupby(['CustomerID'], as_index=False).max()\n",
        "normalice_final"
      ],
      "execution_count": 21,
      "outputs": [
        {
          "output_type": "execute_result",
          "data": {
            "text/html": [
              "<div>\n",
              "<style scoped>\n",
              "    .dataframe tbody tr th:only-of-type {\n",
              "        vertical-align: middle;\n",
              "    }\n",
              "\n",
              "    .dataframe tbody tr th {\n",
              "        vertical-align: top;\n",
              "    }\n",
              "\n",
              "    .dataframe thead th {\n",
              "        text-align: right;\n",
              "    }\n",
              "</style>\n",
              "<table border=\"1\" class=\"dataframe\">\n",
              "  <thead>\n",
              "    <tr style=\"text-align: right;\">\n",
              "      <th></th>\n",
              "      <th>CustomerID</th>\n",
              "      <th>seniority</th>\n",
              "    </tr>\n",
              "  </thead>\n",
              "  <tbody>\n",
              "    <tr>\n",
              "      <th>0</th>\n",
              "      <td>12346.0</td>\n",
              "      <td>326</td>\n",
              "    </tr>\n",
              "    <tr>\n",
              "      <th>1</th>\n",
              "      <td>12347.0</td>\n",
              "      <td>368</td>\n",
              "    </tr>\n",
              "    <tr>\n",
              "      <th>2</th>\n",
              "      <td>12348.0</td>\n",
              "      <td>359</td>\n",
              "    </tr>\n",
              "    <tr>\n",
              "      <th>3</th>\n",
              "      <td>12349.0</td>\n",
              "      <td>19</td>\n",
              "    </tr>\n",
              "    <tr>\n",
              "      <th>4</th>\n",
              "      <td>12350.0</td>\n",
              "      <td>311</td>\n",
              "    </tr>\n",
              "    <tr>\n",
              "      <th>...</th>\n",
              "      <td>...</td>\n",
              "      <td>...</td>\n",
              "    </tr>\n",
              "    <tr>\n",
              "      <th>4334</th>\n",
              "      <td>18280.0</td>\n",
              "      <td>278</td>\n",
              "    </tr>\n",
              "    <tr>\n",
              "      <th>4335</th>\n",
              "      <td>18281.0</td>\n",
              "      <td>181</td>\n",
              "    </tr>\n",
              "    <tr>\n",
              "      <th>4336</th>\n",
              "      <td>18282.0</td>\n",
              "      <td>127</td>\n",
              "    </tr>\n",
              "    <tr>\n",
              "      <th>4337</th>\n",
              "      <td>18283.0</td>\n",
              "      <td>338</td>\n",
              "    </tr>\n",
              "    <tr>\n",
              "      <th>4338</th>\n",
              "      <td>18287.0</td>\n",
              "      <td>202</td>\n",
              "    </tr>\n",
              "  </tbody>\n",
              "</table>\n",
              "<p>4339 rows × 2 columns</p>\n",
              "</div>"
            ],
            "text/plain": [
              "      CustomerID  seniority\n",
              "0        12346.0        326\n",
              "1        12347.0        368\n",
              "2        12348.0        359\n",
              "3        12349.0         19\n",
              "4        12350.0        311\n",
              "...          ...        ...\n",
              "4334     18280.0        278\n",
              "4335     18281.0        181\n",
              "4336     18282.0        127\n",
              "4337     18283.0        338\n",
              "4338     18287.0        202\n",
              "\n",
              "[4339 rows x 2 columns]"
            ]
          },
          "metadata": {
            "tags": []
          },
          "execution_count": 21
        }
      ]
    },
    {
      "cell_type": "markdown",
      "metadata": {
        "id": "JPKrsyIQIvuT"
      },
      "source": [
        "Establecemos la frecuencia de un usuario como el número de transacciones que ha llevado a cabo durante el periodo analizado"
      ]
    },
    {
      "cell_type": "code",
      "metadata": {
        "colab": {
          "base_uri": "https://localhost:8080/",
          "height": 419
        },
        "id": "OhYTbxOpJtlK",
        "outputId": "869aeb7c-96a3-4be6-e0b2-e6f92129a65f"
      },
      "source": [
        "frecuenly = transaction.groupby(['CustomerID'], as_index=False).count()\n",
        "frecuenly = frecuenly.drop(['PrecioTotal', 'day'], axis=1)\n",
        "frecuenly = frecuenly.rename(columns={'InvoiceNo':'frecuency'})\n",
        "frecuenly"
      ],
      "execution_count": 22,
      "outputs": [
        {
          "output_type": "execute_result",
          "data": {
            "text/html": [
              "<div>\n",
              "<style scoped>\n",
              "    .dataframe tbody tr th:only-of-type {\n",
              "        vertical-align: middle;\n",
              "    }\n",
              "\n",
              "    .dataframe tbody tr th {\n",
              "        vertical-align: top;\n",
              "    }\n",
              "\n",
              "    .dataframe thead th {\n",
              "        text-align: right;\n",
              "    }\n",
              "</style>\n",
              "<table border=\"1\" class=\"dataframe\">\n",
              "  <thead>\n",
              "    <tr style=\"text-align: right;\">\n",
              "      <th></th>\n",
              "      <th>CustomerID</th>\n",
              "      <th>frecuency</th>\n",
              "    </tr>\n",
              "  </thead>\n",
              "  <tbody>\n",
              "    <tr>\n",
              "      <th>0</th>\n",
              "      <td>12346.0</td>\n",
              "      <td>1</td>\n",
              "    </tr>\n",
              "    <tr>\n",
              "      <th>1</th>\n",
              "      <td>12347.0</td>\n",
              "      <td>7</td>\n",
              "    </tr>\n",
              "    <tr>\n",
              "      <th>2</th>\n",
              "      <td>12348.0</td>\n",
              "      <td>4</td>\n",
              "    </tr>\n",
              "    <tr>\n",
              "      <th>3</th>\n",
              "      <td>12349.0</td>\n",
              "      <td>1</td>\n",
              "    </tr>\n",
              "    <tr>\n",
              "      <th>4</th>\n",
              "      <td>12350.0</td>\n",
              "      <td>1</td>\n",
              "    </tr>\n",
              "    <tr>\n",
              "      <th>...</th>\n",
              "      <td>...</td>\n",
              "      <td>...</td>\n",
              "    </tr>\n",
              "    <tr>\n",
              "      <th>4334</th>\n",
              "      <td>18280.0</td>\n",
              "      <td>1</td>\n",
              "    </tr>\n",
              "    <tr>\n",
              "      <th>4335</th>\n",
              "      <td>18281.0</td>\n",
              "      <td>1</td>\n",
              "    </tr>\n",
              "    <tr>\n",
              "      <th>4336</th>\n",
              "      <td>18282.0</td>\n",
              "      <td>2</td>\n",
              "    </tr>\n",
              "    <tr>\n",
              "      <th>4337</th>\n",
              "      <td>18283.0</td>\n",
              "      <td>16</td>\n",
              "    </tr>\n",
              "    <tr>\n",
              "      <th>4338</th>\n",
              "      <td>18287.0</td>\n",
              "      <td>3</td>\n",
              "    </tr>\n",
              "  </tbody>\n",
              "</table>\n",
              "<p>4339 rows × 2 columns</p>\n",
              "</div>"
            ],
            "text/plain": [
              "      CustomerID  frecuency\n",
              "0        12346.0          1\n",
              "1        12347.0          7\n",
              "2        12348.0          4\n",
              "3        12349.0          1\n",
              "4        12350.0          1\n",
              "...          ...        ...\n",
              "4334     18280.0          1\n",
              "4335     18281.0          1\n",
              "4336     18282.0          2\n",
              "4337     18283.0         16\n",
              "4338     18287.0          3\n",
              "\n",
              "[4339 rows x 2 columns]"
            ]
          },
          "metadata": {
            "tags": []
          },
          "execution_count": 22
        }
      ]
    },
    {
      "cell_type": "markdown",
      "metadata": {
        "id": "5PR4kDFGI9Uo"
      },
      "source": [
        "Entablecemos la recencia como la direncia entre el día establecido como punto de calculo y el día de la última transacción de cada cliente."
      ]
    },
    {
      "cell_type": "code",
      "metadata": {
        "colab": {
          "base_uri": "https://localhost:8080/",
          "height": 419
        },
        "id": "YceR36HkKeMz",
        "outputId": "46df61af-7a87-4239-cb6a-cb19b6a7e8ff"
      },
      "source": [
        "recenly = transaction.groupby(['CustomerID'], as_index=False)['day'].max()\n",
        "recenly"
      ],
      "execution_count": 23,
      "outputs": [
        {
          "output_type": "execute_result",
          "data": {
            "text/html": [
              "<div>\n",
              "<style scoped>\n",
              "    .dataframe tbody tr th:only-of-type {\n",
              "        vertical-align: middle;\n",
              "    }\n",
              "\n",
              "    .dataframe tbody tr th {\n",
              "        vertical-align: top;\n",
              "    }\n",
              "\n",
              "    .dataframe thead th {\n",
              "        text-align: right;\n",
              "    }\n",
              "</style>\n",
              "<table border=\"1\" class=\"dataframe\">\n",
              "  <thead>\n",
              "    <tr style=\"text-align: right;\">\n",
              "      <th></th>\n",
              "      <th>CustomerID</th>\n",
              "      <th>day</th>\n",
              "    </tr>\n",
              "  </thead>\n",
              "  <tbody>\n",
              "    <tr>\n",
              "      <th>0</th>\n",
              "      <td>12346.0</td>\n",
              "      <td>2011-01-18</td>\n",
              "    </tr>\n",
              "    <tr>\n",
              "      <th>1</th>\n",
              "      <td>12347.0</td>\n",
              "      <td>2011-12-07</td>\n",
              "    </tr>\n",
              "    <tr>\n",
              "      <th>2</th>\n",
              "      <td>12348.0</td>\n",
              "      <td>2011-09-25</td>\n",
              "    </tr>\n",
              "    <tr>\n",
              "      <th>3</th>\n",
              "      <td>12349.0</td>\n",
              "      <td>2011-11-21</td>\n",
              "    </tr>\n",
              "    <tr>\n",
              "      <th>4</th>\n",
              "      <td>12350.0</td>\n",
              "      <td>2011-02-02</td>\n",
              "    </tr>\n",
              "    <tr>\n",
              "      <th>...</th>\n",
              "      <td>...</td>\n",
              "      <td>...</td>\n",
              "    </tr>\n",
              "    <tr>\n",
              "      <th>4334</th>\n",
              "      <td>18280.0</td>\n",
              "      <td>2011-03-07</td>\n",
              "    </tr>\n",
              "    <tr>\n",
              "      <th>4335</th>\n",
              "      <td>18281.0</td>\n",
              "      <td>2011-06-12</td>\n",
              "    </tr>\n",
              "    <tr>\n",
              "      <th>4336</th>\n",
              "      <td>18282.0</td>\n",
              "      <td>2011-12-02</td>\n",
              "    </tr>\n",
              "    <tr>\n",
              "      <th>4337</th>\n",
              "      <td>18283.0</td>\n",
              "      <td>2011-12-06</td>\n",
              "    </tr>\n",
              "    <tr>\n",
              "      <th>4338</th>\n",
              "      <td>18287.0</td>\n",
              "      <td>2011-10-28</td>\n",
              "    </tr>\n",
              "  </tbody>\n",
              "</table>\n",
              "<p>4339 rows × 2 columns</p>\n",
              "</div>"
            ],
            "text/plain": [
              "      CustomerID         day\n",
              "0        12346.0  2011-01-18\n",
              "1        12347.0  2011-12-07\n",
              "2        12348.0  2011-09-25\n",
              "3        12349.0  2011-11-21\n",
              "4        12350.0  2011-02-02\n",
              "...          ...         ...\n",
              "4334     18280.0  2011-03-07\n",
              "4335     18281.0  2011-06-12\n",
              "4336     18282.0  2011-12-02\n",
              "4337     18283.0  2011-12-06\n",
              "4338     18287.0  2011-10-28\n",
              "\n",
              "[4339 rows x 2 columns]"
            ]
          },
          "metadata": {
            "tags": []
          },
          "execution_count": 23
        }
      ]
    },
    {
      "cell_type": "code",
      "metadata": {
        "colab": {
          "base_uri": "https://localhost:8080/"
        },
        "id": "5z2glHeEMrzf",
        "outputId": "d1314b0f-cfba-401c-9a09-e8ddc3ee9218"
      },
      "source": [
        "type(recenly.iloc[0,1])"
      ],
      "execution_count": 24,
      "outputs": [
        {
          "output_type": "execute_result",
          "data": {
            "text/plain": [
              "datetime.date"
            ]
          },
          "metadata": {
            "tags": []
          },
          "execution_count": 24
        }
      ]
    },
    {
      "cell_type": "code",
      "metadata": {
        "id": "B7_MhIjNLqyj"
      },
      "source": [
        "recenly['NofDay'] = ''\n",
        "for x in range (0, len(recenly)):\n",
        "  recenly.iloc[x,2] = (last_day - recenly.iloc[x,1]).days"
      ],
      "execution_count": 25,
      "outputs": []
    },
    {
      "cell_type": "code",
      "metadata": {
        "colab": {
          "base_uri": "https://localhost:8080/",
          "height": 419
        },
        "id": "SK7JnwqFMSDy",
        "outputId": "b4d5f1af-2b9a-4e6d-f38d-f924faaf8ba7"
      },
      "source": [
        "recenly"
      ],
      "execution_count": 26,
      "outputs": [
        {
          "output_type": "execute_result",
          "data": {
            "text/html": [
              "<div>\n",
              "<style scoped>\n",
              "    .dataframe tbody tr th:only-of-type {\n",
              "        vertical-align: middle;\n",
              "    }\n",
              "\n",
              "    .dataframe tbody tr th {\n",
              "        vertical-align: top;\n",
              "    }\n",
              "\n",
              "    .dataframe thead th {\n",
              "        text-align: right;\n",
              "    }\n",
              "</style>\n",
              "<table border=\"1\" class=\"dataframe\">\n",
              "  <thead>\n",
              "    <tr style=\"text-align: right;\">\n",
              "      <th></th>\n",
              "      <th>CustomerID</th>\n",
              "      <th>day</th>\n",
              "      <th>NofDay</th>\n",
              "    </tr>\n",
              "  </thead>\n",
              "  <tbody>\n",
              "    <tr>\n",
              "      <th>0</th>\n",
              "      <td>12346.0</td>\n",
              "      <td>2011-01-18</td>\n",
              "      <td>326</td>\n",
              "    </tr>\n",
              "    <tr>\n",
              "      <th>1</th>\n",
              "      <td>12347.0</td>\n",
              "      <td>2011-12-07</td>\n",
              "      <td>3</td>\n",
              "    </tr>\n",
              "    <tr>\n",
              "      <th>2</th>\n",
              "      <td>12348.0</td>\n",
              "      <td>2011-09-25</td>\n",
              "      <td>76</td>\n",
              "    </tr>\n",
              "    <tr>\n",
              "      <th>3</th>\n",
              "      <td>12349.0</td>\n",
              "      <td>2011-11-21</td>\n",
              "      <td>19</td>\n",
              "    </tr>\n",
              "    <tr>\n",
              "      <th>4</th>\n",
              "      <td>12350.0</td>\n",
              "      <td>2011-02-02</td>\n",
              "      <td>311</td>\n",
              "    </tr>\n",
              "    <tr>\n",
              "      <th>...</th>\n",
              "      <td>...</td>\n",
              "      <td>...</td>\n",
              "      <td>...</td>\n",
              "    </tr>\n",
              "    <tr>\n",
              "      <th>4334</th>\n",
              "      <td>18280.0</td>\n",
              "      <td>2011-03-07</td>\n",
              "      <td>278</td>\n",
              "    </tr>\n",
              "    <tr>\n",
              "      <th>4335</th>\n",
              "      <td>18281.0</td>\n",
              "      <td>2011-06-12</td>\n",
              "      <td>181</td>\n",
              "    </tr>\n",
              "    <tr>\n",
              "      <th>4336</th>\n",
              "      <td>18282.0</td>\n",
              "      <td>2011-12-02</td>\n",
              "      <td>8</td>\n",
              "    </tr>\n",
              "    <tr>\n",
              "      <th>4337</th>\n",
              "      <td>18283.0</td>\n",
              "      <td>2011-12-06</td>\n",
              "      <td>4</td>\n",
              "    </tr>\n",
              "    <tr>\n",
              "      <th>4338</th>\n",
              "      <td>18287.0</td>\n",
              "      <td>2011-10-28</td>\n",
              "      <td>43</td>\n",
              "    </tr>\n",
              "  </tbody>\n",
              "</table>\n",
              "<p>4339 rows × 3 columns</p>\n",
              "</div>"
            ],
            "text/plain": [
              "      CustomerID         day NofDay\n",
              "0        12346.0  2011-01-18    326\n",
              "1        12347.0  2011-12-07      3\n",
              "2        12348.0  2011-09-25     76\n",
              "3        12349.0  2011-11-21     19\n",
              "4        12350.0  2011-02-02    311\n",
              "...          ...         ...    ...\n",
              "4334     18280.0  2011-03-07    278\n",
              "4335     18281.0  2011-06-12    181\n",
              "4336     18282.0  2011-12-02      8\n",
              "4337     18283.0  2011-12-06      4\n",
              "4338     18287.0  2011-10-28     43\n",
              "\n",
              "[4339 rows x 3 columns]"
            ]
          },
          "metadata": {
            "tags": []
          },
          "execution_count": 26
        }
      ]
    },
    {
      "cell_type": "code",
      "metadata": {
        "id": "X0ayKFPwNGuX"
      },
      "source": [
        "recenly = recenly.drop(['day'], axis= 1)"
      ],
      "execution_count": 27,
      "outputs": []
    },
    {
      "cell_type": "markdown",
      "metadata": {
        "id": "qB4oO5ACJW8p"
      },
      "source": [
        "Finalmente creamos la tabla con las tres variables (dinero, frecuencia y recencia) en valor absoluto y la antigûedad de cada individio que nos permitira establecer los valores relativos del RFM"
      ]
    },
    {
      "cell_type": "code",
      "metadata": {
        "colab": {
          "base_uri": "https://localhost:8080/",
          "height": 419
        },
        "id": "az6YK9CdM4If",
        "outputId": "41267c9e-92d9-4a7b-8453-487fe1506d6b"
      },
      "source": [
        "partial_table = pd.merge(total_money_value, frecuenly, on='CustomerID')\n",
        "partial_table = pd.merge(partial_table, recenly, on='CustomerID')\n",
        "partial_table = pd.merge(partial_table, normalice_final, on='CustomerID')\n",
        "partial_table"
      ],
      "execution_count": 28,
      "outputs": [
        {
          "output_type": "execute_result",
          "data": {
            "text/html": [
              "<div>\n",
              "<style scoped>\n",
              "    .dataframe tbody tr th:only-of-type {\n",
              "        vertical-align: middle;\n",
              "    }\n",
              "\n",
              "    .dataframe tbody tr th {\n",
              "        vertical-align: top;\n",
              "    }\n",
              "\n",
              "    .dataframe thead th {\n",
              "        text-align: right;\n",
              "    }\n",
              "</style>\n",
              "<table border=\"1\" class=\"dataframe\">\n",
              "  <thead>\n",
              "    <tr style=\"text-align: right;\">\n",
              "      <th></th>\n",
              "      <th>CustomerID</th>\n",
              "      <th>PrecioTotal</th>\n",
              "      <th>frecuency</th>\n",
              "      <th>NofDay</th>\n",
              "      <th>seniority</th>\n",
              "    </tr>\n",
              "  </thead>\n",
              "  <tbody>\n",
              "    <tr>\n",
              "      <th>0</th>\n",
              "      <td>12346.0</td>\n",
              "      <td>77183.60</td>\n",
              "      <td>1</td>\n",
              "      <td>326</td>\n",
              "      <td>326</td>\n",
              "    </tr>\n",
              "    <tr>\n",
              "      <th>1</th>\n",
              "      <td>12347.0</td>\n",
              "      <td>4310.00</td>\n",
              "      <td>7</td>\n",
              "      <td>3</td>\n",
              "      <td>368</td>\n",
              "    </tr>\n",
              "    <tr>\n",
              "      <th>2</th>\n",
              "      <td>12348.0</td>\n",
              "      <td>1797.24</td>\n",
              "      <td>4</td>\n",
              "      <td>76</td>\n",
              "      <td>359</td>\n",
              "    </tr>\n",
              "    <tr>\n",
              "      <th>3</th>\n",
              "      <td>12349.0</td>\n",
              "      <td>1757.55</td>\n",
              "      <td>1</td>\n",
              "      <td>19</td>\n",
              "      <td>19</td>\n",
              "    </tr>\n",
              "    <tr>\n",
              "      <th>4</th>\n",
              "      <td>12350.0</td>\n",
              "      <td>334.40</td>\n",
              "      <td>1</td>\n",
              "      <td>311</td>\n",
              "      <td>311</td>\n",
              "    </tr>\n",
              "    <tr>\n",
              "      <th>...</th>\n",
              "      <td>...</td>\n",
              "      <td>...</td>\n",
              "      <td>...</td>\n",
              "      <td>...</td>\n",
              "      <td>...</td>\n",
              "    </tr>\n",
              "    <tr>\n",
              "      <th>4334</th>\n",
              "      <td>18280.0</td>\n",
              "      <td>180.60</td>\n",
              "      <td>1</td>\n",
              "      <td>278</td>\n",
              "      <td>278</td>\n",
              "    </tr>\n",
              "    <tr>\n",
              "      <th>4335</th>\n",
              "      <td>18281.0</td>\n",
              "      <td>80.82</td>\n",
              "      <td>1</td>\n",
              "      <td>181</td>\n",
              "      <td>181</td>\n",
              "    </tr>\n",
              "    <tr>\n",
              "      <th>4336</th>\n",
              "      <td>18282.0</td>\n",
              "      <td>178.05</td>\n",
              "      <td>2</td>\n",
              "      <td>8</td>\n",
              "      <td>127</td>\n",
              "    </tr>\n",
              "    <tr>\n",
              "      <th>4337</th>\n",
              "      <td>18283.0</td>\n",
              "      <td>2094.88</td>\n",
              "      <td>16</td>\n",
              "      <td>4</td>\n",
              "      <td>338</td>\n",
              "    </tr>\n",
              "    <tr>\n",
              "      <th>4338</th>\n",
              "      <td>18287.0</td>\n",
              "      <td>1837.28</td>\n",
              "      <td>3</td>\n",
              "      <td>43</td>\n",
              "      <td>202</td>\n",
              "    </tr>\n",
              "  </tbody>\n",
              "</table>\n",
              "<p>4339 rows × 5 columns</p>\n",
              "</div>"
            ],
            "text/plain": [
              "      CustomerID  PrecioTotal  frecuency NofDay  seniority\n",
              "0        12346.0     77183.60          1    326        326\n",
              "1        12347.0      4310.00          7      3        368\n",
              "2        12348.0      1797.24          4     76        359\n",
              "3        12349.0      1757.55          1     19         19\n",
              "4        12350.0       334.40          1    311        311\n",
              "...          ...          ...        ...    ...        ...\n",
              "4334     18280.0       180.60          1    278        278\n",
              "4335     18281.0        80.82          1    181        181\n",
              "4336     18282.0       178.05          2      8        127\n",
              "4337     18283.0      2094.88         16      4        338\n",
              "4338     18287.0      1837.28          3     43        202\n",
              "\n",
              "[4339 rows x 5 columns]"
            ]
          },
          "metadata": {
            "tags": []
          },
          "execution_count": 28
        }
      ]
    },
    {
      "cell_type": "code",
      "metadata": {
        "id": "dUHG0j7SN4Qg"
      },
      "source": [
        "final_table=pd.DataFrame()"
      ],
      "execution_count": 29,
      "outputs": []
    },
    {
      "cell_type": "markdown",
      "metadata": {
        "id": "qiTZoW3EJqzH"
      },
      "source": [
        "Creamos la tabla con los valores relativos del RFM"
      ]
    },
    {
      "cell_type": "code",
      "metadata": {
        "colab": {
          "base_uri": "https://localhost:8080/",
          "height": 419
        },
        "id": "5RSHUnx7XrKl",
        "outputId": "46cc349e-a0d9-4449-bd86-8e93f810c146"
      },
      "source": [
        "final_table['CustomerID'] = partial_table['CustomerID']\n",
        "final_table['PrecioDia'] = (partial_table['PrecioTotal'] / partial_table['seniority'])\n",
        "final_table['FrecuencyRel'] = (partial_table['frecuency'] / partial_table['seniority'])\n",
        "final_table['NofDay'] = partial_table['NofDay']\n",
        "final_table"
      ],
      "execution_count": 30,
      "outputs": [
        {
          "output_type": "execute_result",
          "data": {
            "text/html": [
              "<div>\n",
              "<style scoped>\n",
              "    .dataframe tbody tr th:only-of-type {\n",
              "        vertical-align: middle;\n",
              "    }\n",
              "\n",
              "    .dataframe tbody tr th {\n",
              "        vertical-align: top;\n",
              "    }\n",
              "\n",
              "    .dataframe thead th {\n",
              "        text-align: right;\n",
              "    }\n",
              "</style>\n",
              "<table border=\"1\" class=\"dataframe\">\n",
              "  <thead>\n",
              "    <tr style=\"text-align: right;\">\n",
              "      <th></th>\n",
              "      <th>CustomerID</th>\n",
              "      <th>PrecioDia</th>\n",
              "      <th>FrecuencyRel</th>\n",
              "      <th>NofDay</th>\n",
              "    </tr>\n",
              "  </thead>\n",
              "  <tbody>\n",
              "    <tr>\n",
              "      <th>0</th>\n",
              "      <td>12346.0</td>\n",
              "      <td>236.759509</td>\n",
              "      <td>0.003067</td>\n",
              "      <td>326</td>\n",
              "    </tr>\n",
              "    <tr>\n",
              "      <th>1</th>\n",
              "      <td>12347.0</td>\n",
              "      <td>11.711957</td>\n",
              "      <td>0.019022</td>\n",
              "      <td>3</td>\n",
              "    </tr>\n",
              "    <tr>\n",
              "      <th>2</th>\n",
              "      <td>12348.0</td>\n",
              "      <td>5.006240</td>\n",
              "      <td>0.011142</td>\n",
              "      <td>76</td>\n",
              "    </tr>\n",
              "    <tr>\n",
              "      <th>3</th>\n",
              "      <td>12349.0</td>\n",
              "      <td>92.502632</td>\n",
              "      <td>0.052632</td>\n",
              "      <td>19</td>\n",
              "    </tr>\n",
              "    <tr>\n",
              "      <th>4</th>\n",
              "      <td>12350.0</td>\n",
              "      <td>1.075241</td>\n",
              "      <td>0.003215</td>\n",
              "      <td>311</td>\n",
              "    </tr>\n",
              "    <tr>\n",
              "      <th>...</th>\n",
              "      <td>...</td>\n",
              "      <td>...</td>\n",
              "      <td>...</td>\n",
              "      <td>...</td>\n",
              "    </tr>\n",
              "    <tr>\n",
              "      <th>4334</th>\n",
              "      <td>18280.0</td>\n",
              "      <td>0.649640</td>\n",
              "      <td>0.003597</td>\n",
              "      <td>278</td>\n",
              "    </tr>\n",
              "    <tr>\n",
              "      <th>4335</th>\n",
              "      <td>18281.0</td>\n",
              "      <td>0.446519</td>\n",
              "      <td>0.005525</td>\n",
              "      <td>181</td>\n",
              "    </tr>\n",
              "    <tr>\n",
              "      <th>4336</th>\n",
              "      <td>18282.0</td>\n",
              "      <td>1.401969</td>\n",
              "      <td>0.015748</td>\n",
              "      <td>8</td>\n",
              "    </tr>\n",
              "    <tr>\n",
              "      <th>4337</th>\n",
              "      <td>18283.0</td>\n",
              "      <td>6.197870</td>\n",
              "      <td>0.047337</td>\n",
              "      <td>4</td>\n",
              "    </tr>\n",
              "    <tr>\n",
              "      <th>4338</th>\n",
              "      <td>18287.0</td>\n",
              "      <td>9.095446</td>\n",
              "      <td>0.014851</td>\n",
              "      <td>43</td>\n",
              "    </tr>\n",
              "  </tbody>\n",
              "</table>\n",
              "<p>4339 rows × 4 columns</p>\n",
              "</div>"
            ],
            "text/plain": [
              "      CustomerID   PrecioDia  FrecuencyRel NofDay\n",
              "0        12346.0  236.759509      0.003067    326\n",
              "1        12347.0   11.711957      0.019022      3\n",
              "2        12348.0    5.006240      0.011142     76\n",
              "3        12349.0   92.502632      0.052632     19\n",
              "4        12350.0    1.075241      0.003215    311\n",
              "...          ...         ...           ...    ...\n",
              "4334     18280.0    0.649640      0.003597    278\n",
              "4335     18281.0    0.446519      0.005525    181\n",
              "4336     18282.0    1.401969      0.015748      8\n",
              "4337     18283.0    6.197870      0.047337      4\n",
              "4338     18287.0    9.095446      0.014851     43\n",
              "\n",
              "[4339 rows x 4 columns]"
            ]
          },
          "metadata": {
            "tags": []
          },
          "execution_count": 30
        }
      ]
    },
    {
      "cell_type": "markdown",
      "metadata": {
        "id": "taDw3ULcJvcs"
      },
      "source": [
        "Para poder interpretar los resultados de este método de análisis es necesario dividir los datos en subconjuntos, en este caso hemos utilizado cuantiles, lo que permitira un entendimiento mejor de los datos"
      ]
    },
    {
      "cell_type": "code",
      "metadata": {
        "colab": {
          "base_uri": "https://localhost:8080/",
          "height": 419
        },
        "id": "-rSjwAwef4LR",
        "outputId": "1f0b82aa-dcde-454d-f15d-0f5b216f3467"
      },
      "source": [
        "final_table['NofDayScore'] = pd.qcut(final_table['NofDay'],4,[1,2,3,4])\n",
        "final_table['FrecuencyRelScore'] = pd.qcut(final_table['FrecuencyRel'],4,[4,3,2,1])\n",
        "final_table['PrecioDiaScore'] = pd.qcut(final_table['PrecioDia'],4,[4,3,2,1])\n",
        "final_table\n"
      ],
      "execution_count": 31,
      "outputs": [
        {
          "output_type": "execute_result",
          "data": {
            "text/html": [
              "<div>\n",
              "<style scoped>\n",
              "    .dataframe tbody tr th:only-of-type {\n",
              "        vertical-align: middle;\n",
              "    }\n",
              "\n",
              "    .dataframe tbody tr th {\n",
              "        vertical-align: top;\n",
              "    }\n",
              "\n",
              "    .dataframe thead th {\n",
              "        text-align: right;\n",
              "    }\n",
              "</style>\n",
              "<table border=\"1\" class=\"dataframe\">\n",
              "  <thead>\n",
              "    <tr style=\"text-align: right;\">\n",
              "      <th></th>\n",
              "      <th>CustomerID</th>\n",
              "      <th>PrecioDia</th>\n",
              "      <th>FrecuencyRel</th>\n",
              "      <th>NofDay</th>\n",
              "      <th>NofDayScore</th>\n",
              "      <th>FrecuencyRelScore</th>\n",
              "      <th>PrecioDiaScore</th>\n",
              "    </tr>\n",
              "  </thead>\n",
              "  <tbody>\n",
              "    <tr>\n",
              "      <th>0</th>\n",
              "      <td>12346.0</td>\n",
              "      <td>236.759509</td>\n",
              "      <td>0.003067</td>\n",
              "      <td>326</td>\n",
              "      <td>4</td>\n",
              "      <td>4</td>\n",
              "      <td>1</td>\n",
              "    </tr>\n",
              "    <tr>\n",
              "      <th>1</th>\n",
              "      <td>12347.0</td>\n",
              "      <td>11.711957</td>\n",
              "      <td>0.019022</td>\n",
              "      <td>3</td>\n",
              "      <td>1</td>\n",
              "      <td>2</td>\n",
              "      <td>1</td>\n",
              "    </tr>\n",
              "    <tr>\n",
              "      <th>2</th>\n",
              "      <td>12348.0</td>\n",
              "      <td>5.006240</td>\n",
              "      <td>0.011142</td>\n",
              "      <td>76</td>\n",
              "      <td>3</td>\n",
              "      <td>3</td>\n",
              "      <td>2</td>\n",
              "    </tr>\n",
              "    <tr>\n",
              "      <th>3</th>\n",
              "      <td>12349.0</td>\n",
              "      <td>92.502632</td>\n",
              "      <td>0.052632</td>\n",
              "      <td>19</td>\n",
              "      <td>2</td>\n",
              "      <td>1</td>\n",
              "      <td>1</td>\n",
              "    </tr>\n",
              "    <tr>\n",
              "      <th>4</th>\n",
              "      <td>12350.0</td>\n",
              "      <td>1.075241</td>\n",
              "      <td>0.003215</td>\n",
              "      <td>311</td>\n",
              "      <td>4</td>\n",
              "      <td>4</td>\n",
              "      <td>4</td>\n",
              "    </tr>\n",
              "    <tr>\n",
              "      <th>...</th>\n",
              "      <td>...</td>\n",
              "      <td>...</td>\n",
              "      <td>...</td>\n",
              "      <td>...</td>\n",
              "      <td>...</td>\n",
              "      <td>...</td>\n",
              "      <td>...</td>\n",
              "    </tr>\n",
              "    <tr>\n",
              "      <th>4334</th>\n",
              "      <td>18280.0</td>\n",
              "      <td>0.649640</td>\n",
              "      <td>0.003597</td>\n",
              "      <td>278</td>\n",
              "      <td>4</td>\n",
              "      <td>4</td>\n",
              "      <td>4</td>\n",
              "    </tr>\n",
              "    <tr>\n",
              "      <th>4335</th>\n",
              "      <td>18281.0</td>\n",
              "      <td>0.446519</td>\n",
              "      <td>0.005525</td>\n",
              "      <td>181</td>\n",
              "      <td>4</td>\n",
              "      <td>4</td>\n",
              "      <td>4</td>\n",
              "    </tr>\n",
              "    <tr>\n",
              "      <th>4336</th>\n",
              "      <td>18282.0</td>\n",
              "      <td>1.401969</td>\n",
              "      <td>0.015748</td>\n",
              "      <td>8</td>\n",
              "      <td>1</td>\n",
              "      <td>2</td>\n",
              "      <td>4</td>\n",
              "    </tr>\n",
              "    <tr>\n",
              "      <th>4337</th>\n",
              "      <td>18283.0</td>\n",
              "      <td>6.197870</td>\n",
              "      <td>0.047337</td>\n",
              "      <td>4</td>\n",
              "      <td>1</td>\n",
              "      <td>1</td>\n",
              "      <td>2</td>\n",
              "    </tr>\n",
              "    <tr>\n",
              "      <th>4338</th>\n",
              "      <td>18287.0</td>\n",
              "      <td>9.095446</td>\n",
              "      <td>0.014851</td>\n",
              "      <td>43</td>\n",
              "      <td>2</td>\n",
              "      <td>3</td>\n",
              "      <td>2</td>\n",
              "    </tr>\n",
              "  </tbody>\n",
              "</table>\n",
              "<p>4339 rows × 7 columns</p>\n",
              "</div>"
            ],
            "text/plain": [
              "      CustomerID   PrecioDia  ...  FrecuencyRelScore PrecioDiaScore\n",
              "0        12346.0  236.759509  ...                  4              1\n",
              "1        12347.0   11.711957  ...                  2              1\n",
              "2        12348.0    5.006240  ...                  3              2\n",
              "3        12349.0   92.502632  ...                  1              1\n",
              "4        12350.0    1.075241  ...                  4              4\n",
              "...          ...         ...  ...                ...            ...\n",
              "4334     18280.0    0.649640  ...                  4              4\n",
              "4335     18281.0    0.446519  ...                  4              4\n",
              "4336     18282.0    1.401969  ...                  2              4\n",
              "4337     18283.0    6.197870  ...                  1              2\n",
              "4338     18287.0    9.095446  ...                  3              2\n",
              "\n",
              "[4339 rows x 7 columns]"
            ]
          },
          "metadata": {
            "tags": []
          },
          "execution_count": 31
        }
      ]
    },
    {
      "cell_type": "markdown",
      "metadata": {
        "id": "vcFFUF3fKOHd"
      },
      "source": [
        "La tabla final nos permite ver los valores RFM relativos de cada uno de los clientes, asi como el cuantil al que pertenecen según cada uno de los parametros RFM. Esto nos permitira clasicar a los clientes en diferentes grupos o clusters"
      ]
    },
    {
      "cell_type": "markdown",
      "metadata": {
        "id": "30OF9-OSaZJ5"
      },
      "source": [
        "## Clasificación de los cliente"
      ]
    },
    {
      "cell_type": "markdown",
      "metadata": {
        "id": "OTM-9Lkoadpm"
      },
      "source": [
        "En este caso tenemos tres opciones para hacerlo:\n",
        "\n",
        "- Damos mayor prioridad a una variable que a otra. Por ejemplo, nos importa más el dinero gastado por un cliente que cuando fue la última vez que compró. El método recomienda usar la variable recencia como la más importante, seguida de la frecuencia y finalmente el dinero.\n",
        "\n",
        "- Otra forma seria sumar todas los valores de los cuantiles RFM sin dar prioridad a unos o a otros. Este metodo nos establecera una puntuacíon, en este caso de 3 a 12, donde los clientes con números más bajos serán teóricamente mejores para nuestra empresa.\n",
        "\n",
        "- O clasificamos a los clientes atendiendo a todas las características RFM relativas usando algún sistema de Unsupervised Machine Learning"
      ]
    },
    {
      "cell_type": "markdown",
      "metadata": {
        "id": "Zux4Z2RANHaH"
      },
      "source": [
        "### Clasificación segun RMF"
      ]
    },
    {
      "cell_type": "markdown",
      "metadata": {
        "id": "ymPy2_ggLdmc"
      },
      "source": [
        "Primero creamos la tabla con los valores conjuntos de los cuantiles de las variables RFM"
      ]
    },
    {
      "cell_type": "code",
      "metadata": {
        "colab": {
          "base_uri": "https://localhost:8080/",
          "height": 419
        },
        "id": "lsOs7shsZP0p",
        "outputId": "a3db7372-7515-49f9-94e5-426f19dc309d"
      },
      "source": [
        "final_table_RFM = pd.DataFrame()\n",
        "final_table_RFM['CustomerID'] = final_table['CustomerID']\n",
        "final_table_RFM['PrecioDia'] = final_table['PrecioDia']\n",
        "final_table_RFM['FrecuencyRel'] = final_table['FrecuencyRel']\n",
        "final_table_RFM['NofDay'] = final_table['NofDay']\n",
        "final_table_RFM['RFM']= final_table[\"NofDayScore\"].astype(str) + final_table[\"FrecuencyRelScore\"].astype(str) + final_table[\"PrecioDiaScore\"].astype(str)\n",
        "final_table_RFM['RFMScore']= final_table[\"NofDayScore\"].astype(int) + final_table[\"FrecuencyRelScore\"].astype(int) + final_table[\"PrecioDiaScore\"].astype(int)\n",
        "final_table_RFM"
      ],
      "execution_count": 32,
      "outputs": [
        {
          "output_type": "execute_result",
          "data": {
            "text/html": [
              "<div>\n",
              "<style scoped>\n",
              "    .dataframe tbody tr th:only-of-type {\n",
              "        vertical-align: middle;\n",
              "    }\n",
              "\n",
              "    .dataframe tbody tr th {\n",
              "        vertical-align: top;\n",
              "    }\n",
              "\n",
              "    .dataframe thead th {\n",
              "        text-align: right;\n",
              "    }\n",
              "</style>\n",
              "<table border=\"1\" class=\"dataframe\">\n",
              "  <thead>\n",
              "    <tr style=\"text-align: right;\">\n",
              "      <th></th>\n",
              "      <th>CustomerID</th>\n",
              "      <th>PrecioDia</th>\n",
              "      <th>FrecuencyRel</th>\n",
              "      <th>NofDay</th>\n",
              "      <th>RFM</th>\n",
              "      <th>RFMScore</th>\n",
              "    </tr>\n",
              "  </thead>\n",
              "  <tbody>\n",
              "    <tr>\n",
              "      <th>0</th>\n",
              "      <td>12346.0</td>\n",
              "      <td>236.759509</td>\n",
              "      <td>0.003067</td>\n",
              "      <td>326</td>\n",
              "      <td>441</td>\n",
              "      <td>9</td>\n",
              "    </tr>\n",
              "    <tr>\n",
              "      <th>1</th>\n",
              "      <td>12347.0</td>\n",
              "      <td>11.711957</td>\n",
              "      <td>0.019022</td>\n",
              "      <td>3</td>\n",
              "      <td>121</td>\n",
              "      <td>4</td>\n",
              "    </tr>\n",
              "    <tr>\n",
              "      <th>2</th>\n",
              "      <td>12348.0</td>\n",
              "      <td>5.006240</td>\n",
              "      <td>0.011142</td>\n",
              "      <td>76</td>\n",
              "      <td>332</td>\n",
              "      <td>8</td>\n",
              "    </tr>\n",
              "    <tr>\n",
              "      <th>3</th>\n",
              "      <td>12349.0</td>\n",
              "      <td>92.502632</td>\n",
              "      <td>0.052632</td>\n",
              "      <td>19</td>\n",
              "      <td>211</td>\n",
              "      <td>4</td>\n",
              "    </tr>\n",
              "    <tr>\n",
              "      <th>4</th>\n",
              "      <td>12350.0</td>\n",
              "      <td>1.075241</td>\n",
              "      <td>0.003215</td>\n",
              "      <td>311</td>\n",
              "      <td>444</td>\n",
              "      <td>12</td>\n",
              "    </tr>\n",
              "    <tr>\n",
              "      <th>...</th>\n",
              "      <td>...</td>\n",
              "      <td>...</td>\n",
              "      <td>...</td>\n",
              "      <td>...</td>\n",
              "      <td>...</td>\n",
              "      <td>...</td>\n",
              "    </tr>\n",
              "    <tr>\n",
              "      <th>4334</th>\n",
              "      <td>18280.0</td>\n",
              "      <td>0.649640</td>\n",
              "      <td>0.003597</td>\n",
              "      <td>278</td>\n",
              "      <td>444</td>\n",
              "      <td>12</td>\n",
              "    </tr>\n",
              "    <tr>\n",
              "      <th>4335</th>\n",
              "      <td>18281.0</td>\n",
              "      <td>0.446519</td>\n",
              "      <td>0.005525</td>\n",
              "      <td>181</td>\n",
              "      <td>444</td>\n",
              "      <td>12</td>\n",
              "    </tr>\n",
              "    <tr>\n",
              "      <th>4336</th>\n",
              "      <td>18282.0</td>\n",
              "      <td>1.401969</td>\n",
              "      <td>0.015748</td>\n",
              "      <td>8</td>\n",
              "      <td>124</td>\n",
              "      <td>7</td>\n",
              "    </tr>\n",
              "    <tr>\n",
              "      <th>4337</th>\n",
              "      <td>18283.0</td>\n",
              "      <td>6.197870</td>\n",
              "      <td>0.047337</td>\n",
              "      <td>4</td>\n",
              "      <td>112</td>\n",
              "      <td>4</td>\n",
              "    </tr>\n",
              "    <tr>\n",
              "      <th>4338</th>\n",
              "      <td>18287.0</td>\n",
              "      <td>9.095446</td>\n",
              "      <td>0.014851</td>\n",
              "      <td>43</td>\n",
              "      <td>232</td>\n",
              "      <td>7</td>\n",
              "    </tr>\n",
              "  </tbody>\n",
              "</table>\n",
              "<p>4339 rows × 6 columns</p>\n",
              "</div>"
            ],
            "text/plain": [
              "      CustomerID   PrecioDia  FrecuencyRel NofDay  RFM  RFMScore\n",
              "0        12346.0  236.759509      0.003067    326  441         9\n",
              "1        12347.0   11.711957      0.019022      3  121         4\n",
              "2        12348.0    5.006240      0.011142     76  332         8\n",
              "3        12349.0   92.502632      0.052632     19  211         4\n",
              "4        12350.0    1.075241      0.003215    311  444        12\n",
              "...          ...         ...           ...    ...  ...       ...\n",
              "4334     18280.0    0.649640      0.003597    278  444        12\n",
              "4335     18281.0    0.446519      0.005525    181  444        12\n",
              "4336     18282.0    1.401969      0.015748      8  124         7\n",
              "4337     18283.0    6.197870      0.047337      4  112         4\n",
              "4338     18287.0    9.095446      0.014851     43  232         7\n",
              "\n",
              "[4339 rows x 6 columns]"
            ]
          },
          "metadata": {
            "tags": []
          },
          "execution_count": 32
        }
      ]
    },
    {
      "cell_type": "markdown",
      "metadata": {
        "id": "0g0Xj_FXLwQT"
      },
      "source": [
        "Tanto para el primer sistema de clasificación que hemos mencionado, prioridades de las variables RFM, como para el segundo, unión de todos los resultados de los cuantiles RFM, los primeros y los últimos clientes serán coincidentes. Sólo encontraremos diferencias en los usuarios intermedios."
      ]
    },
    {
      "cell_type": "code",
      "metadata": {
        "colab": {
          "base_uri": "https://localhost:8080/",
          "height": 419
        },
        "id": "FPTQ8cRYbq1n",
        "outputId": "d48af456-1f0f-4431-bfa5-017ad8d16529"
      },
      "source": [
        "final_table_RFM.sort_values('RFM', ascending=True)"
      ],
      "execution_count": 33,
      "outputs": [
        {
          "output_type": "execute_result",
          "data": {
            "text/html": [
              "<div>\n",
              "<style scoped>\n",
              "    .dataframe tbody tr th:only-of-type {\n",
              "        vertical-align: middle;\n",
              "    }\n",
              "\n",
              "    .dataframe tbody tr th {\n",
              "        vertical-align: top;\n",
              "    }\n",
              "\n",
              "    .dataframe thead th {\n",
              "        text-align: right;\n",
              "    }\n",
              "</style>\n",
              "<table border=\"1\" class=\"dataframe\">\n",
              "  <thead>\n",
              "    <tr style=\"text-align: right;\">\n",
              "      <th></th>\n",
              "      <th>CustomerID</th>\n",
              "      <th>PrecioDia</th>\n",
              "      <th>FrecuencyRel</th>\n",
              "      <th>NofDay</th>\n",
              "      <th>RFM</th>\n",
              "      <th>RFMScore</th>\n",
              "    </tr>\n",
              "  </thead>\n",
              "  <tbody>\n",
              "    <tr>\n",
              "      <th>1118</th>\n",
              "      <td>13860.0</td>\n",
              "      <td>14.320690</td>\n",
              "      <td>0.057471</td>\n",
              "      <td>2</td>\n",
              "      <td>111</td>\n",
              "      <td>3</td>\n",
              "    </tr>\n",
              "    <tr>\n",
              "      <th>1502</th>\n",
              "      <td>14397.0</td>\n",
              "      <td>12.210093</td>\n",
              "      <td>0.088785</td>\n",
              "      <td>3</td>\n",
              "      <td>111</td>\n",
              "      <td>3</td>\n",
              "    </tr>\n",
              "    <tr>\n",
              "      <th>529</th>\n",
              "      <td>13040.0</td>\n",
              "      <td>19.911471</td>\n",
              "      <td>0.058824</td>\n",
              "      <td>9</td>\n",
              "      <td>111</td>\n",
              "      <td>3</td>\n",
              "    </tr>\n",
              "    <tr>\n",
              "      <th>2922</th>\n",
              "      <td>16333.0</td>\n",
              "      <td>85.892903</td>\n",
              "      <td>0.070968</td>\n",
              "      <td>8</td>\n",
              "      <td>111</td>\n",
              "      <td>3</td>\n",
              "    </tr>\n",
              "    <tr>\n",
              "      <th>3834</th>\n",
              "      <td>17595.0</td>\n",
              "      <td>10.231316</td>\n",
              "      <td>0.052632</td>\n",
              "      <td>13</td>\n",
              "      <td>111</td>\n",
              "      <td>3</td>\n",
              "    </tr>\n",
              "    <tr>\n",
              "      <th>...</th>\n",
              "      <td>...</td>\n",
              "      <td>...</td>\n",
              "      <td>...</td>\n",
              "      <td>...</td>\n",
              "      <td>...</td>\n",
              "      <td>...</td>\n",
              "    </tr>\n",
              "    <tr>\n",
              "      <th>826</th>\n",
              "      <td>13453.0</td>\n",
              "      <td>1.230966</td>\n",
              "      <td>0.006897</td>\n",
              "      <td>166</td>\n",
              "      <td>444</td>\n",
              "      <td>12</td>\n",
              "    </tr>\n",
              "    <tr>\n",
              "      <th>2607</th>\n",
              "      <td>15889.0</td>\n",
              "      <td>1.207757</td>\n",
              "      <td>0.005405</td>\n",
              "      <td>157</td>\n",
              "      <td>444</td>\n",
              "      <td>12</td>\n",
              "    </tr>\n",
              "    <tr>\n",
              "      <th>3566</th>\n",
              "      <td>17223.0</td>\n",
              "      <td>1.156612</td>\n",
              "      <td>0.005420</td>\n",
              "      <td>311</td>\n",
              "      <td>444</td>\n",
              "      <td>12</td>\n",
              "    </tr>\n",
              "    <tr>\n",
              "      <th>818</th>\n",
              "      <td>13439.0</td>\n",
              "      <td>1.108242</td>\n",
              "      <td>0.003906</td>\n",
              "      <td>256</td>\n",
              "      <td>444</td>\n",
              "      <td>12</td>\n",
              "    </tr>\n",
              "    <tr>\n",
              "      <th>1927</th>\n",
              "      <td>14981.0</td>\n",
              "      <td>0.413441</td>\n",
              "      <td>0.004049</td>\n",
              "      <td>247</td>\n",
              "      <td>444</td>\n",
              "      <td>12</td>\n",
              "    </tr>\n",
              "  </tbody>\n",
              "</table>\n",
              "<p>4339 rows × 6 columns</p>\n",
              "</div>"
            ],
            "text/plain": [
              "      CustomerID  PrecioDia  FrecuencyRel NofDay  RFM  RFMScore\n",
              "1118     13860.0  14.320690      0.057471      2  111         3\n",
              "1502     14397.0  12.210093      0.088785      3  111         3\n",
              "529      13040.0  19.911471      0.058824      9  111         3\n",
              "2922     16333.0  85.892903      0.070968      8  111         3\n",
              "3834     17595.0  10.231316      0.052632     13  111         3\n",
              "...          ...        ...           ...    ...  ...       ...\n",
              "826      13453.0   1.230966      0.006897    166  444        12\n",
              "2607     15889.0   1.207757      0.005405    157  444        12\n",
              "3566     17223.0   1.156612      0.005420    311  444        12\n",
              "818      13439.0   1.108242      0.003906    256  444        12\n",
              "1927     14981.0   0.413441      0.004049    247  444        12\n",
              "\n",
              "[4339 rows x 6 columns]"
            ]
          },
          "metadata": {
            "tags": []
          },
          "execution_count": 33
        }
      ]
    },
    {
      "cell_type": "code",
      "metadata": {
        "colab": {
          "base_uri": "https://localhost:8080/",
          "height": 204
        },
        "id": "DbkiYCxdjj-c",
        "outputId": "f376538c-4642-404c-82e9-bcacd42d5799"
      },
      "source": [
        "RMF_table = final_table_RFM.groupby('RFM', as_index=False)['CustomerID'].count()\n",
        "RMF_table.head()"
      ],
      "execution_count": 34,
      "outputs": [
        {
          "output_type": "execute_result",
          "data": {
            "text/html": [
              "<div>\n",
              "<style scoped>\n",
              "    .dataframe tbody tr th:only-of-type {\n",
              "        vertical-align: middle;\n",
              "    }\n",
              "\n",
              "    .dataframe tbody tr th {\n",
              "        vertical-align: top;\n",
              "    }\n",
              "\n",
              "    .dataframe thead th {\n",
              "        text-align: right;\n",
              "    }\n",
              "</style>\n",
              "<table border=\"1\" class=\"dataframe\">\n",
              "  <thead>\n",
              "    <tr style=\"text-align: right;\">\n",
              "      <th></th>\n",
              "      <th>RFM</th>\n",
              "      <th>CustomerID</th>\n",
              "    </tr>\n",
              "  </thead>\n",
              "  <tbody>\n",
              "    <tr>\n",
              "      <th>0</th>\n",
              "      <td>111</td>\n",
              "      <td>504</td>\n",
              "    </tr>\n",
              "    <tr>\n",
              "      <th>1</th>\n",
              "      <td>112</td>\n",
              "      <td>132</td>\n",
              "    </tr>\n",
              "    <tr>\n",
              "      <th>2</th>\n",
              "      <td>113</td>\n",
              "      <td>11</td>\n",
              "    </tr>\n",
              "    <tr>\n",
              "      <th>3</th>\n",
              "      <td>114</td>\n",
              "      <td>2</td>\n",
              "    </tr>\n",
              "    <tr>\n",
              "      <th>4</th>\n",
              "      <td>121</td>\n",
              "      <td>68</td>\n",
              "    </tr>\n",
              "  </tbody>\n",
              "</table>\n",
              "</div>"
            ],
            "text/plain": [
              "   RFM  CustomerID\n",
              "0  111         504\n",
              "1  112         132\n",
              "2  113          11\n",
              "3  114           2\n",
              "4  121          68"
            ]
          },
          "metadata": {
            "tags": []
          },
          "execution_count": 34
        }
      ]
    },
    {
      "cell_type": "code",
      "metadata": {
        "colab": {
          "base_uri": "https://localhost:8080/",
          "height": 359
        },
        "id": "3rR3AG5QkmJ-",
        "outputId": "74dcc7ee-fbea-477d-d22a-ef369584dd7d"
      },
      "source": [
        "RMFScore_table = final_table_RFM.groupby('RFMScore', as_index=False)['CustomerID'].count()\n",
        "RMFScore_table"
      ],
      "execution_count": 35,
      "outputs": [
        {
          "output_type": "execute_result",
          "data": {
            "text/html": [
              "<div>\n",
              "<style scoped>\n",
              "    .dataframe tbody tr th:only-of-type {\n",
              "        vertical-align: middle;\n",
              "    }\n",
              "\n",
              "    .dataframe tbody tr th {\n",
              "        vertical-align: top;\n",
              "    }\n",
              "\n",
              "    .dataframe thead th {\n",
              "        text-align: right;\n",
              "    }\n",
              "</style>\n",
              "<table border=\"1\" class=\"dataframe\">\n",
              "  <thead>\n",
              "    <tr style=\"text-align: right;\">\n",
              "      <th></th>\n",
              "      <th>RFMScore</th>\n",
              "      <th>CustomerID</th>\n",
              "    </tr>\n",
              "  </thead>\n",
              "  <tbody>\n",
              "    <tr>\n",
              "      <th>0</th>\n",
              "      <td>3</td>\n",
              "      <td>504</td>\n",
              "    </tr>\n",
              "    <tr>\n",
              "      <th>1</th>\n",
              "      <td>4</td>\n",
              "      <td>420</td>\n",
              "    </tr>\n",
              "    <tr>\n",
              "      <th>2</th>\n",
              "      <td>5</td>\n",
              "      <td>391</td>\n",
              "    </tr>\n",
              "    <tr>\n",
              "      <th>3</th>\n",
              "      <td>6</td>\n",
              "      <td>454</td>\n",
              "    </tr>\n",
              "    <tr>\n",
              "      <th>4</th>\n",
              "      <td>7</td>\n",
              "      <td>467</td>\n",
              "    </tr>\n",
              "    <tr>\n",
              "      <th>5</th>\n",
              "      <td>8</td>\n",
              "      <td>443</td>\n",
              "    </tr>\n",
              "    <tr>\n",
              "      <th>6</th>\n",
              "      <td>9</td>\n",
              "      <td>397</td>\n",
              "    </tr>\n",
              "    <tr>\n",
              "      <th>7</th>\n",
              "      <td>10</td>\n",
              "      <td>293</td>\n",
              "    </tr>\n",
              "    <tr>\n",
              "      <th>8</th>\n",
              "      <td>11</td>\n",
              "      <td>290</td>\n",
              "    </tr>\n",
              "    <tr>\n",
              "      <th>9</th>\n",
              "      <td>12</td>\n",
              "      <td>680</td>\n",
              "    </tr>\n",
              "  </tbody>\n",
              "</table>\n",
              "</div>"
            ],
            "text/plain": [
              "   RFMScore  CustomerID\n",
              "0         3         504\n",
              "1         4         420\n",
              "2         5         391\n",
              "3         6         454\n",
              "4         7         467\n",
              "5         8         443\n",
              "6         9         397\n",
              "7        10         293\n",
              "8        11         290\n",
              "9        12         680"
            ]
          },
          "metadata": {
            "tags": []
          },
          "execution_count": 35
        }
      ]
    },
    {
      "cell_type": "markdown",
      "metadata": {
        "id": "4FwYWptGMTmu"
      },
      "source": [
        "En las gráficas siguientes podemos encontrar que, si seguimos el método de union de las variables, el número de usuarios de cada uno de los grupos es bastante similar, exceptuando el peor grupo.\n",
        "En la segunda gráfica, que sigue el modelo de prioridad de las variables, conservamos, al igual que en la primera, una desviación en el grupo de los peores clientes, pero a direferencia que la anterior , los grupos estan mucho más divididos y son mucho mas heterogéneos."
      ]
    },
    {
      "cell_type": "code",
      "metadata": {
        "colab": {
          "base_uri": "https://localhost:8080/",
          "height": 296
        },
        "id": "laFLm_Ejiyyh",
        "outputId": "4f9048fc-016e-49be-ce32-97ccea01a8a8"
      },
      "source": [
        "sns.barplot(data=RMFScore_table, x=RMFScore_table.RFMScore, y=RMFScore_table.CustomerID)\n"
      ],
      "execution_count": 36,
      "outputs": [
        {
          "output_type": "execute_result",
          "data": {
            "text/plain": [
              "<matplotlib.axes._subplots.AxesSubplot at 0x7ff3ebba1c10>"
            ]
          },
          "metadata": {
            "tags": []
          },
          "execution_count": 36
        },
        {
          "output_type": "display_data",
          "data": {
            "image/png": "[encoded data removed]",
            "text/plain": [
              "<Figure size 432x288 with 1 Axes>"
            ]
          },
          "metadata": {
            "tags": [],
            "needs_background": "light"
          }
        }
      ]
    },
    {
      "cell_type": "code",
      "metadata": {
        "colab": {
          "base_uri": "https://localhost:8080/",
          "height": 296
        },
        "id": "OMtHHyH0ifvd",
        "outputId": "1cc6497e-4d2c-4b90-9c14-2add4ea878cb"
      },
      "source": [
        "sns.barplot(data=RMF_table, x=RMF_table.RFM, y=RMF_table.CustomerID)"
      ],
      "execution_count": 37,
      "outputs": [
        {
          "output_type": "execute_result",
          "data": {
            "text/plain": [
              "<matplotlib.axes._subplots.AxesSubplot at 0x7ff3e6b15910>"
            ]
          },
          "metadata": {
            "tags": []
          },
          "execution_count": 37
        },
        {
          "output_type": "display_data",
          "data": {
            "image/png": "[encoded data removed]",
            "text/plain": [
              "<Figure size 432x288 with 1 Axes>"
            ]
          },
          "metadata": {
            "tags": [],
            "needs_background": "light"
          }
        }
      ]
    },
    {
      "cell_type": "code",
      "metadata": {
        "colab": {
          "base_uri": "https://localhost:8080/",
          "height": 204
        },
        "id": "ECLD-Z1n0d-f",
        "outputId": "7ae67da0-bc33-41ee-a445-df627db60455"
      },
      "source": [
        "final_table.head()"
      ],
      "execution_count": 38,
      "outputs": [
        {
          "output_type": "execute_result",
          "data": {
            "text/html": [
              "<div>\n",
              "<style scoped>\n",
              "    .dataframe tbody tr th:only-of-type {\n",
              "        vertical-align: middle;\n",
              "    }\n",
              "\n",
              "    .dataframe tbody tr th {\n",
              "        vertical-align: top;\n",
              "    }\n",
              "\n",
              "    .dataframe thead th {\n",
              "        text-align: right;\n",
              "    }\n",
              "</style>\n",
              "<table border=\"1\" class=\"dataframe\">\n",
              "  <thead>\n",
              "    <tr style=\"text-align: right;\">\n",
              "      <th></th>\n",
              "      <th>CustomerID</th>\n",
              "      <th>PrecioDia</th>\n",
              "      <th>FrecuencyRel</th>\n",
              "      <th>NofDay</th>\n",
              "      <th>NofDayScore</th>\n",
              "      <th>FrecuencyRelScore</th>\n",
              "      <th>PrecioDiaScore</th>\n",
              "    </tr>\n",
              "  </thead>\n",
              "  <tbody>\n",
              "    <tr>\n",
              "      <th>0</th>\n",
              "      <td>12346.0</td>\n",
              "      <td>236.759509</td>\n",
              "      <td>0.003067</td>\n",
              "      <td>326</td>\n",
              "      <td>4</td>\n",
              "      <td>4</td>\n",
              "      <td>1</td>\n",
              "    </tr>\n",
              "    <tr>\n",
              "      <th>1</th>\n",
              "      <td>12347.0</td>\n",
              "      <td>11.711957</td>\n",
              "      <td>0.019022</td>\n",
              "      <td>3</td>\n",
              "      <td>1</td>\n",
              "      <td>2</td>\n",
              "      <td>1</td>\n",
              "    </tr>\n",
              "    <tr>\n",
              "      <th>2</th>\n",
              "      <td>12348.0</td>\n",
              "      <td>5.006240</td>\n",
              "      <td>0.011142</td>\n",
              "      <td>76</td>\n",
              "      <td>3</td>\n",
              "      <td>3</td>\n",
              "      <td>2</td>\n",
              "    </tr>\n",
              "    <tr>\n",
              "      <th>3</th>\n",
              "      <td>12349.0</td>\n",
              "      <td>92.502632</td>\n",
              "      <td>0.052632</td>\n",
              "      <td>19</td>\n",
              "      <td>2</td>\n",
              "      <td>1</td>\n",
              "      <td>1</td>\n",
              "    </tr>\n",
              "    <tr>\n",
              "      <th>4</th>\n",
              "      <td>12350.0</td>\n",
              "      <td>1.075241</td>\n",
              "      <td>0.003215</td>\n",
              "      <td>311</td>\n",
              "      <td>4</td>\n",
              "      <td>4</td>\n",
              "      <td>4</td>\n",
              "    </tr>\n",
              "  </tbody>\n",
              "</table>\n",
              "</div>"
            ],
            "text/plain": [
              "   CustomerID   PrecioDia  ...  FrecuencyRelScore PrecioDiaScore\n",
              "0     12346.0  236.759509  ...                  4              1\n",
              "1     12347.0   11.711957  ...                  2              1\n",
              "2     12348.0    5.006240  ...                  3              2\n",
              "3     12349.0   92.502632  ...                  1              1\n",
              "4     12350.0    1.075241  ...                  4              4\n",
              "\n",
              "[5 rows x 7 columns]"
            ]
          },
          "metadata": {
            "tags": []
          },
          "execution_count": 38
        }
      ]
    },
    {
      "cell_type": "markdown",
      "metadata": {
        "id": "Dh49rWGfOrax"
      },
      "source": [
        "### Conclusiones método RFM"
      ]
    },
    {
      "cell_type": "markdown",
      "metadata": {
        "id": "2Et2dUVROvSv"
      },
      "source": [
        "- El mètodo de preferencia de las variables RFM nos da un modelo con demasiados subgrupos, lo que hace muy dificil de clasificar a los clientes.\n",
        "\n",
        "- Además, los resultados de este método variarian según el modelo de negocio que queramos implementar, cambiando el orden de las variables RFM\n",
        "\n",
        "- El mètodo de unión de las variables RFM nos genera una cantidad más de subgrupos más reducidad pero lleva a la simplificación excesiva de los mismos.\n",
        "\n",
        "- La primer conclusión valida que generan ambos métodos es que tenemos un gran conjunto de clientes que no se gastan mucho dinero, compran con poca frecuencia y no lo hacen desde hace mucho tiempo\n",
        "\n",
        "- Y la segunda, es que por el contrario, tenemos una cantidad bastante importante de clientes fidelizados, que gastan dinero, con frecuencia y hace poco tiempo"
      ]
    },
    {
      "cell_type": "markdown",
      "metadata": {
        "id": "QVBOb6lENFL5"
      },
      "source": [
        "### Clasificación utilizando Hierarchical clustering de Unsupervised Machine Learning"
      ]
    },
    {
      "cell_type": "markdown",
      "metadata": {
        "id": "vzYv74WwNfbH"
      },
      "source": [
        "Para utilizar este mètodo no necesitamos los cuantiles, ya que nos darian datos demasiado similares para todos los clientes. Por ello, utilizaremos los datos relativos de las variables RFM"
      ]
    },
    {
      "cell_type": "code",
      "metadata": {
        "colab": {
          "base_uri": "https://localhost:8080/",
          "height": 450
        },
        "id": "IQCbTWHAittu",
        "outputId": "2f4d6465-0a5a-4132-9fe7-9e1603a24be3"
      },
      "source": [
        "final_table_UL = final_table.drop(['NofDayScore','FrecuencyRelScore','PrecioDiaScore'], axis=1)\n",
        "final_table_UL.set_index('CustomerID', inplace = True)\n",
        "final_table_UL"
      ],
      "execution_count": 39,
      "outputs": [
        {
          "output_type": "execute_result",
          "data": {
            "text/html": [
              "<div>\n",
              "<style scoped>\n",
              "    .dataframe tbody tr th:only-of-type {\n",
              "        vertical-align: middle;\n",
              "    }\n",
              "\n",
              "    .dataframe tbody tr th {\n",
              "        vertical-align: top;\n",
              "    }\n",
              "\n",
              "    .dataframe thead th {\n",
              "        text-align: right;\n",
              "    }\n",
              "</style>\n",
              "<table border=\"1\" class=\"dataframe\">\n",
              "  <thead>\n",
              "    <tr style=\"text-align: right;\">\n",
              "      <th></th>\n",
              "      <th>PrecioDia</th>\n",
              "      <th>FrecuencyRel</th>\n",
              "      <th>NofDay</th>\n",
              "    </tr>\n",
              "    <tr>\n",
              "      <th>CustomerID</th>\n",
              "      <th></th>\n",
              "      <th></th>\n",
              "      <th></th>\n",
              "    </tr>\n",
              "  </thead>\n",
              "  <tbody>\n",
              "    <tr>\n",
              "      <th>12346.0</th>\n",
              "      <td>236.759509</td>\n",
              "      <td>0.003067</td>\n",
              "      <td>326</td>\n",
              "    </tr>\n",
              "    <tr>\n",
              "      <th>12347.0</th>\n",
              "      <td>11.711957</td>\n",
              "      <td>0.019022</td>\n",
              "      <td>3</td>\n",
              "    </tr>\n",
              "    <tr>\n",
              "      <th>12348.0</th>\n",
              "      <td>5.006240</td>\n",
              "      <td>0.011142</td>\n",
              "      <td>76</td>\n",
              "    </tr>\n",
              "    <tr>\n",
              "      <th>12349.0</th>\n",
              "      <td>92.502632</td>\n",
              "      <td>0.052632</td>\n",
              "      <td>19</td>\n",
              "    </tr>\n",
              "    <tr>\n",
              "      <th>12350.0</th>\n",
              "      <td>1.075241</td>\n",
              "      <td>0.003215</td>\n",
              "      <td>311</td>\n",
              "    </tr>\n",
              "    <tr>\n",
              "      <th>...</th>\n",
              "      <td>...</td>\n",
              "      <td>...</td>\n",
              "      <td>...</td>\n",
              "    </tr>\n",
              "    <tr>\n",
              "      <th>18280.0</th>\n",
              "      <td>0.649640</td>\n",
              "      <td>0.003597</td>\n",
              "      <td>278</td>\n",
              "    </tr>\n",
              "    <tr>\n",
              "      <th>18281.0</th>\n",
              "      <td>0.446519</td>\n",
              "      <td>0.005525</td>\n",
              "      <td>181</td>\n",
              "    </tr>\n",
              "    <tr>\n",
              "      <th>18282.0</th>\n",
              "      <td>1.401969</td>\n",
              "      <td>0.015748</td>\n",
              "      <td>8</td>\n",
              "    </tr>\n",
              "    <tr>\n",
              "      <th>18283.0</th>\n",
              "      <td>6.197870</td>\n",
              "      <td>0.047337</td>\n",
              "      <td>4</td>\n",
              "    </tr>\n",
              "    <tr>\n",
              "      <th>18287.0</th>\n",
              "      <td>9.095446</td>\n",
              "      <td>0.014851</td>\n",
              "      <td>43</td>\n",
              "    </tr>\n",
              "  </tbody>\n",
              "</table>\n",
              "<p>4339 rows × 3 columns</p>\n",
              "</div>"
            ],
            "text/plain": [
              "             PrecioDia  FrecuencyRel NofDay\n",
              "CustomerID                                 \n",
              "12346.0     236.759509      0.003067    326\n",
              "12347.0      11.711957      0.019022      3\n",
              "12348.0       5.006240      0.011142     76\n",
              "12349.0      92.502632      0.052632     19\n",
              "12350.0       1.075241      0.003215    311\n",
              "...                ...           ...    ...\n",
              "18280.0       0.649640      0.003597    278\n",
              "18281.0       0.446519      0.005525    181\n",
              "18282.0       1.401969      0.015748      8\n",
              "18283.0       6.197870      0.047337      4\n",
              "18287.0       9.095446      0.014851     43\n",
              "\n",
              "[4339 rows x 3 columns]"
            ]
          },
          "metadata": {
            "tags": []
          },
          "execution_count": 39
        }
      ]
    },
    {
      "cell_type": "markdown",
      "metadata": {
        "id": "1GJ115tUNv9X"
      },
      "source": [
        "Crearemos un Hierarchical clustering sin un número definido de clusters para poder establecer posteriormente cual sería el mejor número a elegir"
      ]
    },
    {
      "cell_type": "code",
      "metadata": {
        "colab": {
          "base_uri": "https://localhost:8080/"
        },
        "id": "LDjlDz3S0pU-",
        "outputId": "0b6e78a3-6653-40f3-ea78-0d385f071654"
      },
      "source": [
        "from sklearn.cluster import AgglomerativeClustering\n",
        "\n",
        "clustering = AgglomerativeClustering(distance_threshold=0, n_clusters=None)\n",
        "\n",
        "result = clustering.fit_predict(final_table_UL)\n",
        "\n",
        "result"
      ],
      "execution_count": 40,
      "outputs": [
        {
          "output_type": "execute_result",
          "data": {
            "text/plain": [
              "array([2175, 3822, 3689, ...,    2,    1,    0])"
            ]
          },
          "metadata": {
            "tags": []
          },
          "execution_count": 40
        }
      ]
    },
    {
      "cell_type": "code",
      "metadata": {
        "colab": {
          "base_uri": "https://localhost:8080/",
          "height": 268
        },
        "id": "qj2qbrUZ1heN",
        "outputId": "01491138-df23-435f-83f5-d4ce3906c8ac"
      },
      "source": [
        "from matplotlib import pyplot as plt\n",
        "from scipy.cluster.hierarchy import dendrogram\n",
        "from sklearn.datasets import load_iris\n",
        "from sklearn.cluster import AgglomerativeClustering\n",
        "\n",
        "\n",
        "def plot_dendrogram(model, **kwargs):\n",
        "    \n",
        "    counts = np.zeros(model.children_.shape[0])\n",
        "    n_samples = len(model.labels_)\n",
        "    for i, merge in enumerate(model.children_):\n",
        "        current_count = 0\n",
        "        for child_idx in merge:\n",
        "            if child_idx < n_samples:\n",
        "                current_count += 1  \n",
        "            else:\n",
        "                current_count += counts[child_idx - n_samples]\n",
        "        counts[i] = current_count\n",
        "\n",
        "    linkage_matrix = np.column_stack([model.children_, model.distances_,\n",
        "                                      counts]).astype(float)\n",
        "\n",
        "    \n",
        "    dendrogram(linkage_matrix, **kwargs)\n",
        "    \n",
        "plot_dendrogram(clustering)"
      ],
      "execution_count": 41,
      "outputs": [
        {
          "output_type": "display_data",
          "data": {
            "image/png": "[encoded data removed]",
            "text/plain": [
              "<Figure size 432x288 with 1 Axes>"
            ]
          },
          "metadata": {
            "tags": [],
            "needs_background": "light"
          }
        }
      ]
    },
    {
      "cell_type": "markdown",
      "metadata": {
        "id": "v35H-pDwN-hA"
      },
      "source": [
        "Partiendo de la gráfica anterior la linea vertical mñas larga sin cortar no lleva a utilizar 3 clusters para nuestro análisis final. "
      ]
    },
    {
      "cell_type": "code",
      "metadata": {
        "colab": {
          "base_uri": "https://localhost:8080/"
        },
        "id": "Fg5KHymg17fy",
        "outputId": "cdbf5388-6e1d-4ee0-b8b1-86c7604d9bad"
      },
      "source": [
        "clustering2 = AgglomerativeClustering(n_clusters=3)\n",
        "\n",
        "result2 = clustering2.fit_predict(final_table_UL)\n",
        "\n",
        "result2"
      ],
      "execution_count": 42,
      "outputs": [
        {
          "output_type": "execute_result",
          "data": {
            "text/plain": [
              "array([0, 1, 1, ..., 1, 1, 1])"
            ]
          },
          "metadata": {
            "tags": []
          },
          "execution_count": 42
        }
      ]
    },
    {
      "cell_type": "code",
      "metadata": {
        "colab": {
          "base_uri": "https://localhost:8080/",
          "height": 475
        },
        "id": "eOPlFV5j2ugO",
        "outputId": "3d5c382d-5d7a-4384-ab3e-54b4d60f5325"
      },
      "source": [
        "f, ax = plt.subplots(2, 2)\n",
        "f.set_size_inches(12, 6)\n",
        "ax[0, 0].scatter(np.log10(final_table_UL.iloc[:,0].values.astype(float)), np.log10(final_table_UL.iloc[:,1].values.astype(float)), c=clustering2.labels_, cmap='rainbow')\n",
        "ax[0, 1].scatter(np.log10(final_table_UL.iloc[:,0].values.astype(float)), np.log10(final_table_UL.iloc[:,2].values.astype(float)), c=clustering2.labels_, cmap='rainbow')\n",
        "ax[1, 0].scatter(np.log10(final_table_UL.iloc[:,1].values.astype(float)),np.log10(final_table_UL.iloc[:,2].values.astype(float)), c=clustering2.labels_, cmap='rainbow')\n",
        "ax[0, 0].set_title('Precio/Frecuencia')\n",
        "ax[0, 1].set_title('Precio/UltimaCompra')\n",
        "ax[1, 0].set_title('Frecuencia/UltimaCompra')"
      ],
      "execution_count": 43,
      "outputs": [
        {
          "output_type": "stream",
          "text": [
            "/usr/local/lib/python3.7/dist-packages/ipykernel_launcher.py:3: RuntimeWarning: divide by zero encountered in log10\n",
            "  This is separate from the ipykernel package so we can avoid doing imports until\n",
            "/usr/local/lib/python3.7/dist-packages/ipykernel_launcher.py:4: RuntimeWarning: divide by zero encountered in log10\n",
            "  after removing the cwd from sys.path.\n"
          ],
          "name": "stderr"
        },
        {
          "output_type": "execute_result",
          "data": {
            "text/plain": [
              "Text(0.5, 1.0, 'Frecuencia/UltimaCompra')"
            ]
          },
          "metadata": {
            "tags": []
          },
          "execution_count": 43
        },
        {
          "output_type": "display_data",
          "data": {
            "image/png": "[encoded data removed]",
            "text/plain": [
              "<Figure size 864x432 with 4 Axes>"
            ]
          },
          "metadata": {
            "tags": [],
            "needs_background": "light"
          }
        }
      ]
    },
    {
      "cell_type": "markdown",
      "metadata": {
        "id": "ltBM34r4_Pep"
      },
      "source": [
        "## Conclusiones Hierarchical clustering"
      ]
    },
    {
      "cell_type": "markdown",
      "metadata": {
        "id": "rbq0eX12_SYc"
      },
      "source": [
        "- Aunque podríamos elegir cualquier otro número de clusters, la grafica nos lleva a pensar que eligiendo 3 crearemos unos subconjuntos bien diferenciados.\n",
        "\n",
        "- tenemos unos pocos clientes (rojo) que han comprado recientemente, se han gastado una cantidad grande de dinero y lo hacen con frecuencia. Aunque la relación entre frecuencia y ultima compra puede estar contaminada si el usuario solo ha realizado una compra.\n",
        "\n",
        "- El grupo más popular (verde) responde a todos los que tienen las tres característa o en niveles bajos o medios\n",
        "\n",
        "- Y el último grupo (morado) tiene una gran frecuencia en la compra y han comprado en los últimos días, pero el dinero no les influye en gran medida\n",
        "\n",
        "\n"
      ]
    },
    {
      "cell_type": "markdown",
      "metadata": {
        "id": "PdIpEXJbVbOD"
      },
      "source": [
        "## Conclusiones finales"
      ]
    },
    {
      "cell_type": "markdown",
      "metadata": {
        "id": "ngi9eiB-Vfqv"
      },
      "source": [
        "Aunque el método RFM puede ser de gran utilidad en los extremos de los datos, genera mucha incertidumbre en los datos medios. Por otra parte, su fácil implementación y su sencillez hace que sea útil para un primer análisis.\n",
        "\n",
        "Por otro lado, el método de agrupación jerárquica no lleva a datos más precisos, pero más difíciles de entender, y conllevaran, probablemente, la necesidad de un mayor entendimiento de negocio para su aplicación.\n"
      ]
    }
  ]
}