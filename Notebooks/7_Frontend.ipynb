{
  "nbformat": 4,
  "nbformat_minor": 0,
  "metadata": {
    "colab": {
      "name": "7_Frontend.ipynb",
      "provenance": [],
      "collapsed_sections": [],
      "authorship_tag": "ABX9TyNI6nrnTrqHOf5FRctjXYE4",
      "include_colab_link": true
    },
    "kernelspec": {
      "name": "python3",
      "display_name": "Python 3"
    },
    "language_info": {
      "name": "python"
    }
  },
  "cells": [
    {
      "cell_type": "markdown",
      "metadata": {
        "id": "view-in-github",
        "colab_type": "text"
      },
      "source": [
        "<a href=\"https://colab.research.google.com/github/SBGuillermo/TFM-AnalisisComercio/blob/main/Notebooks/7_Frontend.ipynb\" target=\"_parent\"><img src=\"https://colab.research.google.com/assets/colab-badge.svg\" alt=\"Open In Colab\"/></a>"
      ]
    },
    {
      "cell_type": "code",
      "metadata": {
        "id": "GU5z0iMwyHTX"
      },
      "source": [
        "#!pip install streamlit"
      ],
      "execution_count": 1,
      "outputs": []
    },
    {
      "cell_type": "code",
      "metadata": {
        "id": "ewhmgO7k3a0a"
      },
      "source": [
        "#!pip install pyngrok==4.1.1"
      ],
      "execution_count": 2,
      "outputs": []
    },
    {
      "cell_type": "code",
      "metadata": {
        "id": "N_MpLtdFCQZv"
      },
      "source": [
        "#!wget https://raw.githubusercontent.com/SBGuillermo/TFM-AnalisisComercio/main/DataSet/DataKmeans.csv\n"
      ],
      "execution_count": 3,
      "outputs": []
    },
    {
      "cell_type": "code",
      "metadata": {
        "id": "6lbU8UiXaCq2"
      },
      "source": [
        "import pandas as pd"
      ],
      "execution_count": 4,
      "outputs": []
    },
    {
      "cell_type": "code",
      "metadata": {
        "colab": {
          "base_uri": "https://localhost:8080/"
        },
        "id": "omlgEl07xTRm",
        "outputId": "49c6efb0-69b6-4faa-d51b-6c9ccc07d6d1"
      },
      "source": [
        "%%writefile app.py\n",
        "from sklearn.cluster import KMeans\n",
        "import numpy as np\n",
        "import streamlit as st\n",
        "import matplotlib.pyplot as plt\n",
        "from matplotlib.patches import Ellipse\n",
        "import matplotlib.transforms as transforms\n",
        "import pandas as pd\n",
        "\n",
        "st.header(\"\"\"Clustering App for Kmeans \"\"\")\n",
        "\n",
        "X = pd.read_csv('/content/DataKmeans.csv')\n",
        "\n",
        "cluster_slider = st.slider(\n",
        "    min_value=1, max_value=6, value=2, label=\"Number of clusters: \"\n",
        ")\n",
        "kmeans = KMeans(n_clusters=cluster_slider, random_state=0).fit(X)\n",
        "labels = kmeans.labels_\n",
        "\n",
        "\n",
        "clrs = [\"red\", \"seagreen\", \"orange\", \"blue\", \"yellow\", \"purple\"]\n",
        "\n",
        "n_labels = len(set(labels))\n",
        "\n",
        "individual = st.selectbox(\"Individual subplots?\", [False, True])\n",
        "\n",
        "FirstColumn = st.sidebar.slider(\n",
        "    min_value=0, max_value=25, value=0, label=\"Choose first column : \")\n",
        "SecondColumn = st.sidebar.slider(\n",
        "    min_value=0, max_value=25, value=1, label=\"Choose second column : \")\n",
        "\n",
        "if individual:\n",
        "    fig, ax = plt.subplots(ncols=n_labels)\n",
        "else:\n",
        "    fig, ax = plt.subplots()\n",
        "\n",
        "for i, yi in enumerate(set(labels)):\n",
        "    if not individual:\n",
        "        a = ax\n",
        "    else:\n",
        "        a = ax[i]\n",
        "\n",
        "    xi = X[labels == yi]\n",
        "    x_pts = xi.iloc[:, FirstColumn]\n",
        "    y_pts = xi.iloc[:, SecondColumn]\n",
        "    a.scatter(x_pts, y_pts, c=clrs[yi])\n",
        "\n",
        "    \n",
        "plt.tight_layout()\n",
        "st.write(fig)\n",
        "\n",
        "st.write(\"\"\"Show clustering Kmeans \"\"\")\n",
        "st.sidebar.header('Columns')\n",
        "st.sidebar.subheader('Number of each product')\n",
        "\n",
        "st.sidebar.write('Outlay=0')\n",
        "st.sidebar.write('WHITE HANGING HEART T-LIGHT HOLDER=1')\n",
        "st.sidebar.write('REGENCY CAKESTAND 3 TIER=2')\n",
        "st.sidebar.write('JUMBO BAG RED RETROSPOT=3')\n",
        "st.sidebar.write('ASSORTED COLOUR BIRD ORNAMENT=4')\n",
        "st.sidebar.write('PARTY BUNTING=5')\n",
        "st.sidebar.write('LUNCH BAG RED RETROSPOT=6')\n",
        "st.sidebar.write('SET OF 3 CAKE TINS PANTRY DESIGN=7')\n",
        "st.sidebar.write('LUNCH BAG  BLACK SKULL.=8')\n",
        "st.sidebar.write('JAM MAKING SET PRINTED=9')\n",
        "st.sidebar.write('PACK OF 72 RETROSPOT CAKE CASES=10')\n",
        "st.sidebar.write(\"PAPER CHAIN KIT 50'S CHRISTMAS=11\")\n",
        "st.sidebar.write('SPOTTY BUNTING=12')\n",
        "st.sidebar.write('LUNCH BAG SPACEBOY DESIGN=13')\n",
        "st.sidebar.write('LUNCH BAG CARS BLUE=14')\n",
        "st.sidebar.write('HEART OF WICKER SMALL=15')\n",
        "st.sidebar.write('NATURAL SLATE HEART CHALKBOARD=16')\n",
        "st.sidebar.write('LUNCH BAG PINK POLKADOT=17')\n",
        "st.sidebar.write('REX CASH+CARRY JUMBO SHOPPER=18')\n",
        "st.sidebar.write('LUNCH BAG SUKI DESIGN=19')\n",
        "st.sidebar.write('ALARM CLOCK BAKELIKE RED=20')\n",
        "st.sidebar.write('LUNCH BAG APPLE DESIGN=21')\n",
        "st.sidebar.write('SET OF 4 PANTRY JELLY MOULDS=22')\n",
        "st.sidebar.write('JUMBO BAG PINK POLKADOT=23')\n",
        "st.sidebar.write('JAM MAKING SET WITH JARS=24')\n",
        "st.sidebar.write('WOODEN PICTURE FRAME WHITE FINISH=25')\n",
        "\n",
        "\n"
      ],
      "execution_count": 5,
      "outputs": [
        {
          "output_type": "stream",
          "text": [
            "Overwriting app.py\n"
          ],
          "name": "stdout"
        }
      ]
    },
    {
      "cell_type": "code",
      "metadata": {
        "colab": {
          "base_uri": "https://localhost:8080/"
        },
        "id": "UeoohAK90u4O",
        "outputId": "8c29770b-353c-4a06-bf2f-673114fd27e5"
      },
      "source": [
        "!ngrok\n"
      ],
      "execution_count": 6,
      "outputs": [
        {
          "output_type": "stream",
          "text": [
            "NAME:\n",
            "   ngrok - tunnel local ports to public URLs and inspect traffic\n",
            "\n",
            "DESCRIPTION:\n",
            "    ngrok exposes local networked services behinds NATs and firewalls to the\n",
            "    public internet over a secure tunnel. Share local websites, build/test\n",
            "    webhook consumers and self-host personal services.\n",
            "    Detailed help for each command is available with 'ngrok help <command>'.\n",
            "    Open http://localhost:4040 for ngrok's web interface to inspect traffic.\n",
            "\n",
            "EXAMPLES:\n",
            "    ngrok http 80                    # secure public URL for port 80 web server\n",
            "    ngrok http -subdomain=baz 8080   # port 8080 available at baz.ngrok.io\n",
            "    ngrok http foo.dev:80            # tunnel to host:port instead of localhost\n",
            "    ngrok http https://localhost     # expose a local https server\n",
            "    ngrok tcp 22                     # tunnel arbitrary TCP traffic to port 22\n",
            "    ngrok tls -hostname=foo.com 443  # TLS traffic for foo.com to port 443\n",
            "    ngrok start foo bar baz          # start tunnels from the configuration file\n",
            "\n",
            "VERSION:\n",
            "   2.3.40\n",
            "\n",
            "AUTHOR:\n",
            "  inconshreveable - <alan@ngrok.com>\n",
            "\n",
            "COMMANDS:\n",
            "   authtoken\tsave authtoken to configuration file\n",
            "   credits\tprints author and licensing information\n",
            "   http\t\tstart an HTTP tunnel\n",
            "   start\tstart tunnels by name from the configuration file\n",
            "   tcp\t\tstart a TCP tunnel\n",
            "   tls\t\tstart a TLS tunnel\n",
            "   update\tupdate ngrok to the latest version\n",
            "   version\tprint the version string\n",
            "   help\t\tShows a list of commands or help for one command\n",
            "\n",
            "PYNGROK VERSION:\n",
            "   4.1.1\n"
          ],
          "name": "stdout"
        }
      ]
    },
    {
      "cell_type": "code",
      "metadata": {
        "colab": {
          "base_uri": "https://localhost:8080/"
        },
        "id": "xw2FwUMs1yND",
        "outputId": "e88ef3ed-d83c-4373-b783-d7a3b11d4ed8"
      },
      "source": [
        "!ngrok authtoken 1v30SGFHNrZFbpkL3PAfBpyJOPk_3wbhg29SrR9ZcTtusF8KK"
      ],
      "execution_count": 7,
      "outputs": [
        {
          "output_type": "stream",
          "text": [
            "Authtoken saved to configuration file: /root/.ngrok2/ngrok.yml\n"
          ],
          "name": "stdout"
        }
      ]
    },
    {
      "cell_type": "code",
      "metadata": {
        "id": "xAuwnft9xfpI",
        "colab": {
          "base_uri": "https://localhost:8080/"
        },
        "outputId": "2ab22842-2e32-46b7-beb1-7a479a1c73e9"
      },
      "source": [
        "!nohub streamlit run app.py &"
      ],
      "execution_count": 8,
      "outputs": [
        {
          "output_type": "stream",
          "text": [
            "/bin/bash: nohub: command not found\n"
          ],
          "name": "stdout"
        }
      ]
    },
    {
      "cell_type": "code",
      "metadata": {
        "id": "gf74D0_e2-ri"
      },
      "source": [
        "!streamlit run --server.port 8501 app.py &>/dev/null&"
      ],
      "execution_count": 9,
      "outputs": []
    },
    {
      "cell_type": "code",
      "metadata": {
        "id": "MoroZftgxj7e"
      },
      "source": [
        ""
      ],
      "execution_count": 9,
      "outputs": []
    },
    {
      "cell_type": "code",
      "metadata": {
        "colab": {
          "base_uri": "https://localhost:8080/",
          "height": 35
        },
        "id": "NZZM5_3Cxmhl",
        "outputId": "0ad01da4-551f-497b-aefb-6140db5dd4b1"
      },
      "source": [
        "from pyngrok import ngrok\n",
        "# Setup a tunnel to the streamlit port 8501\n",
        "public_url = ngrok.connect(port='8501')\n",
        "public_url"
      ],
      "execution_count": 10,
      "outputs": [
        {
          "output_type": "execute_result",
          "data": {
            "application/vnd.google.colaboratory.intrinsic+json": {
              "type": "string"
            },
            "text/plain": [
              "'http://f86c23f6de47.ngrok.io'"
            ]
          },
          "metadata": {
            "tags": []
          },
          "execution_count": 10
        }
      ]
    },
    {
      "cell_type": "code",
      "metadata": {
        "id": "__kPNrcWxrS0"
      },
      "source": [
        ""
      ],
      "execution_count": 10,
      "outputs": []
    }
  ]
}